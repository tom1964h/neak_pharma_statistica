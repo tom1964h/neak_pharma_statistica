{
 "cells": [
  {
   "cell_type": "markdown",
   "id": "0619a396",
   "metadata": {},
   "source": [
    "# Havi rendszeres lekérdezések futtatása"
   ]
  },
  {
   "cell_type": "code",
   "execution_count": 3,
   "id": "c0577a97",
   "metadata": {},
   "outputs": [],
   "source": [
    "import pyodbc\n",
    "import pandas as pd\n",
    "import numpy as np\n",
    "import os\n",
    "import sqlite3\n",
    "from datetime import datetime, timezone\n",
    "import matplotlib.pyplot as plt\n",
    "\n",
    "%matplotlib inline"
   ]
  },
  {
   "cell_type": "markdown",
   "id": "29660aa4",
   "metadata": {},
   "source": [
    "## Havi változás-halmaz adatcsomag előállítása -> .csv"
   ]
  },
  {
   "cell_type": "code",
   "execution_count": 3,
   "id": "8501a914",
   "metadata": {},
   "outputs": [],
   "source": [
    "df_already_scanned = pd.read_csv(\"already_scanned.csv\", sep=\";\")"
   ]
  },
  {
   "cell_type": "code",
   "execution_count": 4,
   "id": "446391ac",
   "metadata": {},
   "outputs": [],
   "source": [
    "paramList = []\n",
    "entry = []\n",
    "x = len(df_already_scanned)"
   ]
  },
  {
   "cell_type": "code",
   "execution_count": null,
   "id": "63e760ea",
   "metadata": {},
   "outputs": [],
   "source": []
  },
  {
   "cell_type": "code",
   "execution_count": 5,
   "id": "352b5def",
   "metadata": {},
   "outputs": [],
   "source": [
    "entry.append('sumRecord_Number')\n",
    "entry.append(df_already_scanned['sourceRecordNumber'].sum())\n",
    "paramList.append(entry)\n",
    "entry = []\n",
    "entry.append('minSumPriceBill')\n",
    "entry.append(df_already_scanned['dfSumPriceBill'].min())\n",
    "paramList.append(entry)\n",
    "entry = []\n",
    "entry.append('maxSumPriceBill')\n",
    "entry.append(df_already_scanned['dfSumPriceBill'].max())\n",
    "paramList.append(entry)\n",
    "entry = []\n",
    "entry.append('avgSumPriceBill')\n",
    "entry.append(df_already_scanned['dfSumPriceBill'].mean())\n",
    "paramList.append(entry)\n",
    "entry = []"
   ]
  },
  {
   "cell_type": "code",
   "execution_count": 6,
   "id": "83fcafdc",
   "metadata": {},
   "outputs": [],
   "source": [
    "penultSumPriceBill = df_already_scanned.loc[x-2:x-2, ['dfSumPriceBill']].iloc[0,0]\n",
    "entry.append('penultSumPriceBill')\n",
    "entry.append(penultSumPriceBill)\n",
    "paramList.append(entry)\n",
    "entry = []\n",
    "\n",
    "lastSumPriceBill = df_already_scanned.loc[x-1:x, ['dfSumPriceBill']].iloc[0,0]\n",
    "entry.append('lastSumPriceBill')\n",
    "entry.append(lastSumPriceBill)\n",
    "paramList.append(entry)\n",
    "entry = []\n",
    "\n",
    "changeLastSumPriceBill = ((lastSumPriceBill/penultSumPriceBill)-1)*100\n",
    "entry.append('changeLastSumPriceBill')\n",
    "entry.append(changeLastSumPriceBill)\n",
    "paramList.append(entry)\n",
    "entry = []\n",
    "\n",
    "penultSumBoxMill = df_already_scanned.loc[x-2:x-2, ['dfSumBoxMill']].iloc[0,0]\n",
    "entry.append('penultSumBoxMill')\n",
    "entry.append(penultSumBoxMill)\n",
    "paramList.append(entry)\n",
    "entry = []\n",
    "\n",
    "lastSumBoxMill = df_already_scanned.loc[x-1:x, ['dfSumBoxMill']].iloc[0,0]\n",
    "entry.append('lastSumBoxMill')\n",
    "entry.append(lastSumBoxMill)\n",
    "paramList.append(entry)\n",
    "entry = []\n",
    "\n",
    "changeLastSumBoxMill = ((lastSumBoxMill/penultSumBoxMill)-1)*100\n",
    "entry.append('changeLastSumBoxMill')\n",
    "entry.append(changeLastSumBoxMill)\n",
    "paramList.append(entry)\n",
    "entry = []\n",
    "\n",
    "yesterSumBoxMill = df_already_scanned.loc[x-13:x-12, ['dfSumBoxMill']].iloc[0,0]\n",
    "entry.append('yesterSumBoxMill')\n",
    "entry.append(yesterSumBoxMill)\n",
    "paramList.append(entry)\n",
    "entry = []\n",
    "\n",
    "changeYesterSumBoxMill = ((lastSumBoxMill/yesterSumBoxMill)-1)*100\n",
    "entry.append('changeYesterSumBoxMill')\n",
    "entry.append(changeYesterSumBoxMill)\n",
    "paramList.append(entry)\n",
    "entry = []\n",
    "\n",
    "\n",
    "yesterSumPriceBill = df_already_scanned.loc[x-13:x-12, ['dfSumPriceBill']].iloc[0,0]\n",
    "entry.append('yesterSumPriceBill')\n",
    "entry.append(yesterSumPriceBill)\n",
    "paramList.append(entry)\n",
    "entry = []\n",
    "\n",
    "\n",
    "changeYesterSumPriceBill = ((lastSumPriceBill/yesterSumPriceBill)-1)*100\n",
    "entry.append('changeYesterSumPriceBill')\n",
    "entry.append(changeYesterSumPriceBill)\n",
    "paramList.append(entry)\n",
    "entry = []"
   ]
  },
  {
   "cell_type": "code",
   "execution_count": 7,
   "id": "b8e2d7b7",
   "metadata": {},
   "outputs": [],
   "source": [
    "neak_paramList = pd.DataFrame(paramList, columns =['parameter', 'value'])"
   ]
  },
  {
   "cell_type": "code",
   "execution_count": 8,
   "id": "6b204607",
   "metadata": {},
   "outputs": [
    {
     "data": {
      "text/html": [
       "<div>\n",
       "<style scoped>\n",
       "    .dataframe tbody tr th:only-of-type {\n",
       "        vertical-align: middle;\n",
       "    }\n",
       "\n",
       "    .dataframe tbody tr th {\n",
       "        vertical-align: top;\n",
       "    }\n",
       "\n",
       "    .dataframe thead th {\n",
       "        text-align: right;\n",
       "    }\n",
       "</style>\n",
       "<table border=\"1\" class=\"dataframe\">\n",
       "  <thead>\n",
       "    <tr style=\"text-align: right;\">\n",
       "      <th></th>\n",
       "      <th>parameter</th>\n",
       "      <th>value</th>\n",
       "    </tr>\n",
       "  </thead>\n",
       "  <tbody>\n",
       "    <tr>\n",
       "      <th>0</th>\n",
       "      <td>sumRecord_Number</td>\n",
       "      <td>2.400458e+07</td>\n",
       "    </tr>\n",
       "    <tr>\n",
       "      <th>1</th>\n",
       "      <td>minSumPriceBill</td>\n",
       "      <td>3.180627e+01</td>\n",
       "    </tr>\n",
       "    <tr>\n",
       "      <th>2</th>\n",
       "      <td>maxSumPriceBill</td>\n",
       "      <td>5.917420e+01</td>\n",
       "    </tr>\n",
       "    <tr>\n",
       "      <th>3</th>\n",
       "      <td>avgSumPriceBill</td>\n",
       "      <td>4.001119e+01</td>\n",
       "    </tr>\n",
       "    <tr>\n",
       "      <th>4</th>\n",
       "      <td>penultSumPriceBill</td>\n",
       "      <td>4.753280e+01</td>\n",
       "    </tr>\n",
       "    <tr>\n",
       "      <th>5</th>\n",
       "      <td>lastSumPriceBill</td>\n",
       "      <td>5.128301e+01</td>\n",
       "    </tr>\n",
       "    <tr>\n",
       "      <th>6</th>\n",
       "      <td>changeLastSumPriceBill</td>\n",
       "      <td>7.889737e+00</td>\n",
       "    </tr>\n",
       "    <tr>\n",
       "      <th>7</th>\n",
       "      <td>penultSumBoxMill</td>\n",
       "      <td>1.497459e+01</td>\n",
       "    </tr>\n",
       "    <tr>\n",
       "      <th>8</th>\n",
       "      <td>lastSumBoxMill</td>\n",
       "      <td>1.582185e+01</td>\n",
       "    </tr>\n",
       "    <tr>\n",
       "      <th>9</th>\n",
       "      <td>changeLastSumBoxMill</td>\n",
       "      <td>5.657993e+00</td>\n",
       "    </tr>\n",
       "    <tr>\n",
       "      <th>10</th>\n",
       "      <td>yesterSumBoxMill</td>\n",
       "      <td>1.533080e+01</td>\n",
       "    </tr>\n",
       "    <tr>\n",
       "      <th>11</th>\n",
       "      <td>changeYesterSumBoxMill</td>\n",
       "      <td>3.203001e+00</td>\n",
       "    </tr>\n",
       "    <tr>\n",
       "      <th>12</th>\n",
       "      <td>yesterSumPriceBill</td>\n",
       "      <td>4.581977e+01</td>\n",
       "    </tr>\n",
       "    <tr>\n",
       "      <th>13</th>\n",
       "      <td>changeYesterSumPriceBill</td>\n",
       "      <td>1.192333e+01</td>\n",
       "    </tr>\n",
       "  </tbody>\n",
       "</table>\n",
       "</div>"
      ],
      "text/plain": [
       "                   parameter         value\n",
       "0           sumRecord_Number  2.400458e+07\n",
       "1            minSumPriceBill  3.180627e+01\n",
       "2            maxSumPriceBill  5.917420e+01\n",
       "3            avgSumPriceBill  4.001119e+01\n",
       "4         penultSumPriceBill  4.753280e+01\n",
       "5           lastSumPriceBill  5.128301e+01\n",
       "6     changeLastSumPriceBill  7.889737e+00\n",
       "7           penultSumBoxMill  1.497459e+01\n",
       "8             lastSumBoxMill  1.582185e+01\n",
       "9       changeLastSumBoxMill  5.657993e+00\n",
       "10          yesterSumBoxMill  1.533080e+01\n",
       "11    changeYesterSumBoxMill  3.203001e+00\n",
       "12        yesterSumPriceBill  4.581977e+01\n",
       "13  changeYesterSumPriceBill  1.192333e+01"
      ]
     },
     "execution_count": 8,
     "metadata": {},
     "output_type": "execute_result"
    }
   ],
   "source": [
    "neak_paramList"
   ]
  },
  {
   "cell_type": "code",
   "execution_count": 7,
   "id": "da27b799",
   "metadata": {},
   "outputs": [],
   "source": [
    "neak_paramList.to_csv(\"neak_paramList.csv\", sep=\";\", encoding='utf-8', index=False)"
   ]
  },
  {
   "cell_type": "markdown",
   "id": "84b2132f",
   "metadata": {},
   "source": [
    "## Havi felösszegzések előállítása recent7 -> df_recent7_monthly"
   ]
  },
  {
   "cell_type": "code",
   "execution_count": 2,
   "id": "9d45c398",
   "metadata": {},
   "outputs": [],
   "source": [
    "# Abbreviations of the Names of the Months (Yale University Library)\n",
    "# https://web.library.yale.edu/cataloging/months\n",
    "# line = \"English\"\n",
    "\n",
    "monthDict = {\n",
    "'01':\"Jan.\",\n",
    "'02':\"Feb.\",\n",
    "'03':\"Mar.\",\n",
    "'04':\"Apr.\",\n",
    "'05':\"May\",\n",
    "'06':\"June\",\n",
    "'07':\"July\",\n",
    "'08':\"Aug.\",\n",
    "'09':\"Sept.\",\n",
    "'10':\"Oct.\",\n",
    "'11':\"Nov.\",\n",
    "'12':\"Dec.\"}"
   ]
  },
  {
   "cell_type": "code",
   "execution_count": 4,
   "id": "0fd60a75",
   "metadata": {},
   "outputs": [],
   "source": [
    "db = sqlite3.connect('neak2.sqlite3')"
   ]
  },
  {
   "cell_type": "code",
   "execution_count": 5,
   "id": "0253b650",
   "metadata": {},
   "outputs": [],
   "source": [
    "q = \"select idoszak, sum(fogyar) as sumfogyar, sum(doboz) as sumdoboz from recent7 group by idoszak;\""
   ]
  },
  {
   "cell_type": "code",
   "execution_count": 6,
   "id": "348fec6f",
   "metadata": {},
   "outputs": [],
   "source": [
    "df = pd.read_sql(q, db)"
   ]
  },
  {
   "cell_type": "code",
   "execution_count": 8,
   "id": "6484d88d",
   "metadata": {},
   "outputs": [],
   "source": [
    "df['year']= df['idoszak'].str.slice(0, 4)"
   ]
  },
  {
   "cell_type": "code",
   "execution_count": 9,
   "id": "393c788f",
   "metadata": {},
   "outputs": [],
   "source": [
    "df['honap']= df['idoszak'].str.slice(4, 6)"
   ]
  },
  {
   "cell_type": "code",
   "execution_count": 10,
   "id": "7a3b8ca9",
   "metadata": {},
   "outputs": [],
   "source": [
    "df['month'] = df['honap'].map(monthDict)"
   ]
  },
  {
   "cell_type": "code",
   "execution_count": 23,
   "id": "854db1b4",
   "metadata": {},
   "outputs": [],
   "source": [
    "# df.to_csv(\"recent6_monthly.csv\", sep=\";\", encoding='utf-8', index=False)"
   ]
  },
  {
   "cell_type": "code",
   "execution_count": 13,
   "id": "8f23815b",
   "metadata": {},
   "outputs": [],
   "source": [
    "df.to_sql((\"df_recent7_monthly\"), db, if_exists = 'replace')"
   ]
  },
  {
   "cell_type": "code",
   "execution_count": 14,
   "id": "e858b127",
   "metadata": {},
   "outputs": [],
   "source": [
    "db.close()"
   ]
  },
  {
   "cell_type": "code",
   "execution_count": null,
   "id": "5563d485",
   "metadata": {},
   "outputs": [],
   "source": []
  },
  {
   "cell_type": "markdown",
   "id": "948526f5",
   "metadata": {},
   "source": [
    "## Havi felösszegzések előállítása whole2022 -> df_atc1_recent"
   ]
  },
  {
   "cell_type": "code",
   "execution_count": 27,
   "id": "64d90fbe",
   "metadata": {},
   "outputs": [],
   "source": [
    "db = sqlite3.connect('neak2.sqlite3')"
   ]
  },
  {
   "cell_type": "code",
   "execution_count": 28,
   "id": "b871f148",
   "metadata": {},
   "outputs": [],
   "source": [
    "q = \"SELECT idoszak, substr(atc, 1, 1) AS atc1, sum(doboz) AS sumdob, sum(fogyar) AS sumfogyar FROM whole2022 GROUP BY substr(atc, 1, 1), idoszak;\""
   ]
  },
  {
   "cell_type": "code",
   "execution_count": 29,
   "id": "18174267",
   "metadata": {},
   "outputs": [],
   "source": [
    "df = pd.read_sql(q, db)"
   ]
  },
  {
   "cell_type": "code",
   "execution_count": 30,
   "id": "043a75bb",
   "metadata": {},
   "outputs": [
    {
     "data": {
      "text/html": [
       "<div>\n",
       "<style scoped>\n",
       "    .dataframe tbody tr th:only-of-type {\n",
       "        vertical-align: middle;\n",
       "    }\n",
       "\n",
       "    .dataframe tbody tr th {\n",
       "        vertical-align: top;\n",
       "    }\n",
       "\n",
       "    .dataframe thead th {\n",
       "        text-align: right;\n",
       "    }\n",
       "</style>\n",
       "<table border=\"1\" class=\"dataframe\">\n",
       "  <thead>\n",
       "    <tr style=\"text-align: right;\">\n",
       "      <th></th>\n",
       "      <th>idoszak</th>\n",
       "      <th>atc1</th>\n",
       "      <th>sumdob</th>\n",
       "      <th>sumfogyar</th>\n",
       "    </tr>\n",
       "  </thead>\n",
       "  <tbody>\n",
       "    <tr>\n",
       "      <th>0</th>\n",
       "      <td>202202</td>\n",
       "      <td>-</td>\n",
       "      <td>5.150000</td>\n",
       "      <td>9.021890e+06</td>\n",
       "    </tr>\n",
       "    <tr>\n",
       "      <th>1</th>\n",
       "      <td>202204</td>\n",
       "      <td>-</td>\n",
       "      <td>1.000000</td>\n",
       "      <td>1.804349e+06</td>\n",
       "    </tr>\n",
       "    <tr>\n",
       "      <th>2</th>\n",
       "      <td>202205</td>\n",
       "      <td>-</td>\n",
       "      <td>5.000000</td>\n",
       "      <td>3.608698e+06</td>\n",
       "    </tr>\n",
       "    <tr>\n",
       "      <th>3</th>\n",
       "      <td>202206</td>\n",
       "      <td>-</td>\n",
       "      <td>8.750000</td>\n",
       "      <td>3.615644e+06</td>\n",
       "    </tr>\n",
       "    <tr>\n",
       "      <th>4</th>\n",
       "      <td>202207</td>\n",
       "      <td>-</td>\n",
       "      <td>3.000000</td>\n",
       "      <td>3.609538e+06</td>\n",
       "    </tr>\n",
       "    <tr>\n",
       "      <th>...</th>\n",
       "      <td>...</td>\n",
       "      <td>...</td>\n",
       "      <td>...</td>\n",
       "      <td>...</td>\n",
       "    </tr>\n",
       "    <tr>\n",
       "      <th>121</th>\n",
       "      <td>202204</td>\n",
       "      <td>V</td>\n",
       "      <td>409392.064689</td>\n",
       "      <td>1.631803e+09</td>\n",
       "    </tr>\n",
       "    <tr>\n",
       "      <th>122</th>\n",
       "      <td>202205</td>\n",
       "      <td>V</td>\n",
       "      <td>416376.177128</td>\n",
       "      <td>1.674671e+09</td>\n",
       "    </tr>\n",
       "    <tr>\n",
       "      <th>123</th>\n",
       "      <td>202206</td>\n",
       "      <td>V</td>\n",
       "      <td>421033.719723</td>\n",
       "      <td>1.702956e+09</td>\n",
       "    </tr>\n",
       "    <tr>\n",
       "      <th>124</th>\n",
       "      <td>202207</td>\n",
       "      <td>V</td>\n",
       "      <td>404909.643424</td>\n",
       "      <td>1.649154e+09</td>\n",
       "    </tr>\n",
       "    <tr>\n",
       "      <th>125</th>\n",
       "      <td>202208</td>\n",
       "      <td>V</td>\n",
       "      <td>421532.236599</td>\n",
       "      <td>1.765639e+09</td>\n",
       "    </tr>\n",
       "  </tbody>\n",
       "</table>\n",
       "<p>126 rows × 4 columns</p>\n",
       "</div>"
      ],
      "text/plain": [
       "    idoszak atc1         sumdob     sumfogyar\n",
       "0    202202    -       5.150000  9.021890e+06\n",
       "1    202204    -       1.000000  1.804349e+06\n",
       "2    202205    -       5.000000  3.608698e+06\n",
       "3    202206    -       8.750000  3.615644e+06\n",
       "4    202207    -       3.000000  3.609538e+06\n",
       "..      ...  ...            ...           ...\n",
       "121  202204    V  409392.064689  1.631803e+09\n",
       "122  202205    V  416376.177128  1.674671e+09\n",
       "123  202206    V  421033.719723  1.702956e+09\n",
       "124  202207    V  404909.643424  1.649154e+09\n",
       "125  202208    V  421532.236599  1.765639e+09\n",
       "\n",
       "[126 rows x 4 columns]"
      ]
     },
     "execution_count": 30,
     "metadata": {},
     "output_type": "execute_result"
    }
   ],
   "source": [
    "df"
   ]
  },
  {
   "cell_type": "code",
   "execution_count": 33,
   "id": "758feae5",
   "metadata": {},
   "outputs": [],
   "source": [
    "df_atc1 = df.pivot(index='atc1', columns='idoszak', values='sumdob').fillna(0)"
   ]
  },
  {
   "cell_type": "code",
   "execution_count": 34,
   "id": "8219eceb",
   "metadata": {},
   "outputs": [],
   "source": [
    "df_atc1ft = df.pivot(index='atc1', columns='idoszak', values='sumfogyar').fillna(0)"
   ]
  },
  {
   "cell_type": "code",
   "execution_count": 35,
   "id": "de12da7a",
   "metadata": {},
   "outputs": [
    {
     "data": {
      "text/html": [
       "<div>\n",
       "<style scoped>\n",
       "    .dataframe tbody tr th:only-of-type {\n",
       "        vertical-align: middle;\n",
       "    }\n",
       "\n",
       "    .dataframe tbody tr th {\n",
       "        vertical-align: top;\n",
       "    }\n",
       "\n",
       "    .dataframe thead th {\n",
       "        text-align: right;\n",
       "    }\n",
       "</style>\n",
       "<table border=\"1\" class=\"dataframe\">\n",
       "  <thead>\n",
       "    <tr style=\"text-align: right;\">\n",
       "      <th>idoszak</th>\n",
       "      <th>202201</th>\n",
       "      <th>202202</th>\n",
       "      <th>202203</th>\n",
       "      <th>202204</th>\n",
       "      <th>202205</th>\n",
       "      <th>202206</th>\n",
       "      <th>202207</th>\n",
       "      <th>202208</th>\n",
       "    </tr>\n",
       "    <tr>\n",
       "      <th>atc1</th>\n",
       "      <th></th>\n",
       "      <th></th>\n",
       "      <th></th>\n",
       "      <th></th>\n",
       "      <th></th>\n",
       "      <th></th>\n",
       "      <th></th>\n",
       "      <th></th>\n",
       "    </tr>\n",
       "  </thead>\n",
       "  <tbody>\n",
       "    <tr>\n",
       "      <th>-</th>\n",
       "      <td>0.000000e+00</td>\n",
       "      <td>5.150000e+00</td>\n",
       "      <td>0.000000e+00</td>\n",
       "      <td>1.000000e+00</td>\n",
       "      <td>5.000000e+00</td>\n",
       "      <td>8.750000e+00</td>\n",
       "      <td>3.000000e+00</td>\n",
       "      <td>1.000000e+00</td>\n",
       "    </tr>\n",
       "    <tr>\n",
       "      <th>A</th>\n",
       "      <td>2.822996e+06</td>\n",
       "      <td>2.854347e+06</td>\n",
       "      <td>3.076204e+06</td>\n",
       "      <td>2.740975e+06</td>\n",
       "      <td>2.831275e+06</td>\n",
       "      <td>2.825518e+06</td>\n",
       "      <td>2.673257e+06</td>\n",
       "      <td>2.836903e+06</td>\n",
       "    </tr>\n",
       "    <tr>\n",
       "      <th>B</th>\n",
       "      <td>1.027582e+06</td>\n",
       "      <td>1.013524e+06</td>\n",
       "      <td>1.115631e+06</td>\n",
       "      <td>1.012483e+06</td>\n",
       "      <td>1.069163e+06</td>\n",
       "      <td>1.075053e+06</td>\n",
       "      <td>1.013221e+06</td>\n",
       "      <td>1.095575e+06</td>\n",
       "    </tr>\n",
       "    <tr>\n",
       "      <th>C</th>\n",
       "      <td>5.590668e+06</td>\n",
       "      <td>5.540089e+06</td>\n",
       "      <td>6.179563e+06</td>\n",
       "      <td>5.573265e+06</td>\n",
       "      <td>5.912467e+06</td>\n",
       "      <td>5.938523e+06</td>\n",
       "      <td>5.542669e+06</td>\n",
       "      <td>5.846233e+06</td>\n",
       "    </tr>\n",
       "    <tr>\n",
       "      <th>D</th>\n",
       "      <td>2.458376e+05</td>\n",
       "      <td>2.452091e+05</td>\n",
       "      <td>2.905054e+05</td>\n",
       "      <td>2.495954e+05</td>\n",
       "      <td>2.691559e+05</td>\n",
       "      <td>2.581992e+05</td>\n",
       "      <td>2.354804e+05</td>\n",
       "      <td>2.360074e+05</td>\n",
       "    </tr>\n",
       "    <tr>\n",
       "      <th>G</th>\n",
       "      <td>2.318122e+05</td>\n",
       "      <td>2.285869e+05</td>\n",
       "      <td>2.576791e+05</td>\n",
       "      <td>2.325525e+05</td>\n",
       "      <td>2.472390e+05</td>\n",
       "      <td>2.474284e+05</td>\n",
       "      <td>2.245441e+05</td>\n",
       "      <td>2.377548e+05</td>\n",
       "    </tr>\n",
       "    <tr>\n",
       "      <th>H</th>\n",
       "      <td>2.008414e+05</td>\n",
       "      <td>1.989373e+05</td>\n",
       "      <td>2.283020e+05</td>\n",
       "      <td>2.016805e+05</td>\n",
       "      <td>2.118293e+05</td>\n",
       "      <td>2.090617e+05</td>\n",
       "      <td>1.913742e+05</td>\n",
       "      <td>1.992098e+05</td>\n",
       "    </tr>\n",
       "    <tr>\n",
       "      <th>I</th>\n",
       "      <td>1.436083e+06</td>\n",
       "      <td>1.305168e+06</td>\n",
       "      <td>1.512923e+06</td>\n",
       "      <td>1.339834e+06</td>\n",
       "      <td>1.388955e+06</td>\n",
       "      <td>1.261753e+06</td>\n",
       "      <td>1.121245e+06</td>\n",
       "      <td>1.187223e+06</td>\n",
       "    </tr>\n",
       "    <tr>\n",
       "      <th>J</th>\n",
       "      <td>6.574399e+05</td>\n",
       "      <td>6.568671e+05</td>\n",
       "      <td>7.590046e+05</td>\n",
       "      <td>5.926986e+05</td>\n",
       "      <td>5.430780e+05</td>\n",
       "      <td>4.735648e+05</td>\n",
       "      <td>4.586289e+05</td>\n",
       "      <td>4.821281e+05</td>\n",
       "    </tr>\n",
       "    <tr>\n",
       "      <th>L</th>\n",
       "      <td>8.798094e+04</td>\n",
       "      <td>8.564288e+04</td>\n",
       "      <td>9.735772e+04</td>\n",
       "      <td>8.889417e+04</td>\n",
       "      <td>9.707551e+04</td>\n",
       "      <td>9.532908e+04</td>\n",
       "      <td>8.827457e+04</td>\n",
       "      <td>9.353970e+04</td>\n",
       "    </tr>\n",
       "    <tr>\n",
       "      <th>M</th>\n",
       "      <td>7.904647e+05</td>\n",
       "      <td>7.766323e+05</td>\n",
       "      <td>8.578237e+05</td>\n",
       "      <td>7.861220e+05</td>\n",
       "      <td>8.402396e+05</td>\n",
       "      <td>8.293505e+05</td>\n",
       "      <td>7.763419e+05</td>\n",
       "      <td>8.301762e+05</td>\n",
       "    </tr>\n",
       "    <tr>\n",
       "      <th>N</th>\n",
       "      <td>1.515098e+06</td>\n",
       "      <td>1.485390e+06</td>\n",
       "      <td>1.666968e+06</td>\n",
       "      <td>1.498478e+06</td>\n",
       "      <td>1.593318e+06</td>\n",
       "      <td>1.576286e+06</td>\n",
       "      <td>1.485623e+06</td>\n",
       "      <td>1.571773e+06</td>\n",
       "    </tr>\n",
       "    <tr>\n",
       "      <th>P</th>\n",
       "      <td>1.010031e+04</td>\n",
       "      <td>1.495315e+04</td>\n",
       "      <td>1.667355e+04</td>\n",
       "      <td>1.569355e+04</td>\n",
       "      <td>1.715407e+04</td>\n",
       "      <td>1.648830e+04</td>\n",
       "      <td>1.478890e+04</td>\n",
       "      <td>1.559702e+04</td>\n",
       "    </tr>\n",
       "    <tr>\n",
       "      <th>R</th>\n",
       "      <td>6.108239e+05</td>\n",
       "      <td>5.969728e+05</td>\n",
       "      <td>7.056894e+05</td>\n",
       "      <td>6.387587e+05</td>\n",
       "      <td>6.862311e+05</td>\n",
       "      <td>6.280216e+05</td>\n",
       "      <td>5.678916e+05</td>\n",
       "      <td>6.096531e+05</td>\n",
       "    </tr>\n",
       "    <tr>\n",
       "      <th>S</th>\n",
       "      <td>1.716760e+05</td>\n",
       "      <td>1.720226e+05</td>\n",
       "      <td>1.952458e+05</td>\n",
       "      <td>1.768837e+05</td>\n",
       "      <td>1.992229e+05</td>\n",
       "      <td>1.948331e+05</td>\n",
       "      <td>1.763363e+05</td>\n",
       "      <td>1.585419e+05</td>\n",
       "    </tr>\n",
       "    <tr>\n",
       "      <th>V</th>\n",
       "      <td>3.923676e+05</td>\n",
       "      <td>3.989182e+05</td>\n",
       "      <td>4.423460e+05</td>\n",
       "      <td>4.093921e+05</td>\n",
       "      <td>4.163762e+05</td>\n",
       "      <td>4.210337e+05</td>\n",
       "      <td>4.049096e+05</td>\n",
       "      <td>4.215322e+05</td>\n",
       "    </tr>\n",
       "  </tbody>\n",
       "</table>\n",
       "</div>"
      ],
      "text/plain": [
       "idoszak        202201        202202        202203        202204        202205  \\\n",
       "atc1                                                                            \n",
       "-        0.000000e+00  5.150000e+00  0.000000e+00  1.000000e+00  5.000000e+00   \n",
       "A        2.822996e+06  2.854347e+06  3.076204e+06  2.740975e+06  2.831275e+06   \n",
       "B        1.027582e+06  1.013524e+06  1.115631e+06  1.012483e+06  1.069163e+06   \n",
       "C        5.590668e+06  5.540089e+06  6.179563e+06  5.573265e+06  5.912467e+06   \n",
       "D        2.458376e+05  2.452091e+05  2.905054e+05  2.495954e+05  2.691559e+05   \n",
       "G        2.318122e+05  2.285869e+05  2.576791e+05  2.325525e+05  2.472390e+05   \n",
       "H        2.008414e+05  1.989373e+05  2.283020e+05  2.016805e+05  2.118293e+05   \n",
       "I        1.436083e+06  1.305168e+06  1.512923e+06  1.339834e+06  1.388955e+06   \n",
       "J        6.574399e+05  6.568671e+05  7.590046e+05  5.926986e+05  5.430780e+05   \n",
       "L        8.798094e+04  8.564288e+04  9.735772e+04  8.889417e+04  9.707551e+04   \n",
       "M        7.904647e+05  7.766323e+05  8.578237e+05  7.861220e+05  8.402396e+05   \n",
       "N        1.515098e+06  1.485390e+06  1.666968e+06  1.498478e+06  1.593318e+06   \n",
       "P        1.010031e+04  1.495315e+04  1.667355e+04  1.569355e+04  1.715407e+04   \n",
       "R        6.108239e+05  5.969728e+05  7.056894e+05  6.387587e+05  6.862311e+05   \n",
       "S        1.716760e+05  1.720226e+05  1.952458e+05  1.768837e+05  1.992229e+05   \n",
       "V        3.923676e+05  3.989182e+05  4.423460e+05  4.093921e+05  4.163762e+05   \n",
       "\n",
       "idoszak        202206        202207        202208  \n",
       "atc1                                               \n",
       "-        8.750000e+00  3.000000e+00  1.000000e+00  \n",
       "A        2.825518e+06  2.673257e+06  2.836903e+06  \n",
       "B        1.075053e+06  1.013221e+06  1.095575e+06  \n",
       "C        5.938523e+06  5.542669e+06  5.846233e+06  \n",
       "D        2.581992e+05  2.354804e+05  2.360074e+05  \n",
       "G        2.474284e+05  2.245441e+05  2.377548e+05  \n",
       "H        2.090617e+05  1.913742e+05  1.992098e+05  \n",
       "I        1.261753e+06  1.121245e+06  1.187223e+06  \n",
       "J        4.735648e+05  4.586289e+05  4.821281e+05  \n",
       "L        9.532908e+04  8.827457e+04  9.353970e+04  \n",
       "M        8.293505e+05  7.763419e+05  8.301762e+05  \n",
       "N        1.576286e+06  1.485623e+06  1.571773e+06  \n",
       "P        1.648830e+04  1.478890e+04  1.559702e+04  \n",
       "R        6.280216e+05  5.678916e+05  6.096531e+05  \n",
       "S        1.948331e+05  1.763363e+05  1.585419e+05  \n",
       "V        4.210337e+05  4.049096e+05  4.215322e+05  "
      ]
     },
     "execution_count": 35,
     "metadata": {},
     "output_type": "execute_result"
    }
   ],
   "source": [
    "df_atc1"
   ]
  },
  {
   "cell_type": "code",
   "execution_count": 36,
   "id": "b753f3c6",
   "metadata": {},
   "outputs": [
    {
     "data": {
      "text/html": [
       "<div>\n",
       "<style scoped>\n",
       "    .dataframe tbody tr th:only-of-type {\n",
       "        vertical-align: middle;\n",
       "    }\n",
       "\n",
       "    .dataframe tbody tr th {\n",
       "        vertical-align: top;\n",
       "    }\n",
       "\n",
       "    .dataframe thead th {\n",
       "        text-align: right;\n",
       "    }\n",
       "</style>\n",
       "<table border=\"1\" class=\"dataframe\">\n",
       "  <thead>\n",
       "    <tr style=\"text-align: right;\">\n",
       "      <th>idoszak</th>\n",
       "      <th>202201</th>\n",
       "      <th>202202</th>\n",
       "      <th>202203</th>\n",
       "      <th>202204</th>\n",
       "      <th>202205</th>\n",
       "      <th>202206</th>\n",
       "      <th>202207</th>\n",
       "      <th>202208</th>\n",
       "    </tr>\n",
       "    <tr>\n",
       "      <th>atc1</th>\n",
       "      <th></th>\n",
       "      <th></th>\n",
       "      <th></th>\n",
       "      <th></th>\n",
       "      <th></th>\n",
       "      <th></th>\n",
       "      <th></th>\n",
       "      <th></th>\n",
       "    </tr>\n",
       "  </thead>\n",
       "  <tbody>\n",
       "    <tr>\n",
       "      <th>-</th>\n",
       "      <td>0.000000e+00</td>\n",
       "      <td>9.021890e+06</td>\n",
       "      <td>0.000000e+00</td>\n",
       "      <td>1.804349e+06</td>\n",
       "      <td>3.608698e+06</td>\n",
       "      <td>3.615644e+06</td>\n",
       "      <td>3.609538e+06</td>\n",
       "      <td>1.804349e+06</td>\n",
       "    </tr>\n",
       "    <tr>\n",
       "      <th>A</th>\n",
       "      <td>9.070201e+09</td>\n",
       "      <td>9.237626e+09</td>\n",
       "      <td>1.023046e+10</td>\n",
       "      <td>9.223284e+09</td>\n",
       "      <td>9.729720e+09</td>\n",
       "      <td>9.905000e+09</td>\n",
       "      <td>9.465499e+09</td>\n",
       "      <td>9.995631e+09</td>\n",
       "    </tr>\n",
       "    <tr>\n",
       "      <th>B</th>\n",
       "      <td>5.585106e+09</td>\n",
       "      <td>5.486753e+09</td>\n",
       "      <td>6.142151e+09</td>\n",
       "      <td>5.672033e+09</td>\n",
       "      <td>6.103235e+09</td>\n",
       "      <td>6.147394e+09</td>\n",
       "      <td>5.815425e+09</td>\n",
       "      <td>6.322889e+09</td>\n",
       "    </tr>\n",
       "    <tr>\n",
       "      <th>C</th>\n",
       "      <td>7.941015e+09</td>\n",
       "      <td>7.884912e+09</td>\n",
       "      <td>8.819301e+09</td>\n",
       "      <td>8.013763e+09</td>\n",
       "      <td>8.518707e+09</td>\n",
       "      <td>8.542958e+09</td>\n",
       "      <td>7.989127e+09</td>\n",
       "      <td>8.513935e+09</td>\n",
       "    </tr>\n",
       "    <tr>\n",
       "      <th>D</th>\n",
       "      <td>4.504471e+08</td>\n",
       "      <td>4.491802e+08</td>\n",
       "      <td>5.179559e+08</td>\n",
       "      <td>4.741243e+08</td>\n",
       "      <td>5.162438e+08</td>\n",
       "      <td>5.143592e+08</td>\n",
       "      <td>4.658089e+08</td>\n",
       "      <td>4.838408e+08</td>\n",
       "    </tr>\n",
       "    <tr>\n",
       "      <th>G</th>\n",
       "      <td>1.118440e+09</td>\n",
       "      <td>1.099868e+09</td>\n",
       "      <td>1.218036e+09</td>\n",
       "      <td>1.136669e+09</td>\n",
       "      <td>1.224166e+09</td>\n",
       "      <td>1.189387e+09</td>\n",
       "      <td>9.583523e+08</td>\n",
       "      <td>1.066668e+09</td>\n",
       "    </tr>\n",
       "    <tr>\n",
       "      <th>H</th>\n",
       "      <td>9.049444e+08</td>\n",
       "      <td>8.948981e+08</td>\n",
       "      <td>9.979394e+08</td>\n",
       "      <td>9.105553e+08</td>\n",
       "      <td>9.470900e+08</td>\n",
       "      <td>9.315195e+08</td>\n",
       "      <td>8.715443e+08</td>\n",
       "      <td>8.969208e+08</td>\n",
       "    </tr>\n",
       "    <tr>\n",
       "      <th>I</th>\n",
       "      <td>7.217619e+08</td>\n",
       "      <td>6.438635e+08</td>\n",
       "      <td>7.438103e+08</td>\n",
       "      <td>7.239512e+08</td>\n",
       "      <td>7.517459e+08</td>\n",
       "      <td>6.960119e+08</td>\n",
       "      <td>6.450958e+08</td>\n",
       "      <td>6.600117e+08</td>\n",
       "    </tr>\n",
       "    <tr>\n",
       "      <th>J</th>\n",
       "      <td>2.013880e+09</td>\n",
       "      <td>1.953068e+09</td>\n",
       "      <td>2.296347e+09</td>\n",
       "      <td>1.873182e+09</td>\n",
       "      <td>1.844895e+09</td>\n",
       "      <td>1.729218e+09</td>\n",
       "      <td>1.782991e+09</td>\n",
       "      <td>2.290598e+09</td>\n",
       "    </tr>\n",
       "    <tr>\n",
       "      <th>L</th>\n",
       "      <td>8.824783e+09</td>\n",
       "      <td>8.438631e+09</td>\n",
       "      <td>9.615960e+09</td>\n",
       "      <td>8.786205e+09</td>\n",
       "      <td>9.256373e+09</td>\n",
       "      <td>9.326893e+09</td>\n",
       "      <td>8.744477e+09</td>\n",
       "      <td>9.585266e+09</td>\n",
       "    </tr>\n",
       "    <tr>\n",
       "      <th>M</th>\n",
       "      <td>1.409072e+09</td>\n",
       "      <td>1.405946e+09</td>\n",
       "      <td>1.566878e+09</td>\n",
       "      <td>1.431303e+09</td>\n",
       "      <td>1.563934e+09</td>\n",
       "      <td>1.544288e+09</td>\n",
       "      <td>1.446327e+09</td>\n",
       "      <td>1.552026e+09</td>\n",
       "    </tr>\n",
       "    <tr>\n",
       "      <th>N</th>\n",
       "      <td>4.296579e+09</td>\n",
       "      <td>4.205000e+09</td>\n",
       "      <td>4.699881e+09</td>\n",
       "      <td>4.276349e+09</td>\n",
       "      <td>4.609539e+09</td>\n",
       "      <td>4.540371e+09</td>\n",
       "      <td>4.293328e+09</td>\n",
       "      <td>4.575378e+09</td>\n",
       "    </tr>\n",
       "    <tr>\n",
       "      <th>P</th>\n",
       "      <td>1.264377e+07</td>\n",
       "      <td>1.667048e+07</td>\n",
       "      <td>1.870642e+07</td>\n",
       "      <td>1.781875e+07</td>\n",
       "      <td>1.962239e+07</td>\n",
       "      <td>1.887547e+07</td>\n",
       "      <td>1.680270e+07</td>\n",
       "      <td>1.782012e+07</td>\n",
       "    </tr>\n",
       "    <tr>\n",
       "      <th>R</th>\n",
       "      <td>2.943521e+09</td>\n",
       "      <td>2.920888e+09</td>\n",
       "      <td>3.292807e+09</td>\n",
       "      <td>3.000459e+09</td>\n",
       "      <td>3.216558e+09</td>\n",
       "      <td>3.076720e+09</td>\n",
       "      <td>2.867963e+09</td>\n",
       "      <td>3.043252e+09</td>\n",
       "    </tr>\n",
       "    <tr>\n",
       "      <th>S</th>\n",
       "      <td>4.967237e+08</td>\n",
       "      <td>4.959234e+08</td>\n",
       "      <td>5.535103e+08</td>\n",
       "      <td>5.014256e+08</td>\n",
       "      <td>5.556593e+08</td>\n",
       "      <td>5.518769e+08</td>\n",
       "      <td>5.172913e+08</td>\n",
       "      <td>5.113309e+08</td>\n",
       "    </tr>\n",
       "    <tr>\n",
       "      <th>V</th>\n",
       "      <td>1.536298e+09</td>\n",
       "      <td>1.556573e+09</td>\n",
       "      <td>1.801865e+09</td>\n",
       "      <td>1.631803e+09</td>\n",
       "      <td>1.674671e+09</td>\n",
       "      <td>1.702956e+09</td>\n",
       "      <td>1.649154e+09</td>\n",
       "      <td>1.765639e+09</td>\n",
       "    </tr>\n",
       "  </tbody>\n",
       "</table>\n",
       "</div>"
      ],
      "text/plain": [
       "idoszak        202201        202202        202203        202204        202205  \\\n",
       "atc1                                                                            \n",
       "-        0.000000e+00  9.021890e+06  0.000000e+00  1.804349e+06  3.608698e+06   \n",
       "A        9.070201e+09  9.237626e+09  1.023046e+10  9.223284e+09  9.729720e+09   \n",
       "B        5.585106e+09  5.486753e+09  6.142151e+09  5.672033e+09  6.103235e+09   \n",
       "C        7.941015e+09  7.884912e+09  8.819301e+09  8.013763e+09  8.518707e+09   \n",
       "D        4.504471e+08  4.491802e+08  5.179559e+08  4.741243e+08  5.162438e+08   \n",
       "G        1.118440e+09  1.099868e+09  1.218036e+09  1.136669e+09  1.224166e+09   \n",
       "H        9.049444e+08  8.948981e+08  9.979394e+08  9.105553e+08  9.470900e+08   \n",
       "I        7.217619e+08  6.438635e+08  7.438103e+08  7.239512e+08  7.517459e+08   \n",
       "J        2.013880e+09  1.953068e+09  2.296347e+09  1.873182e+09  1.844895e+09   \n",
       "L        8.824783e+09  8.438631e+09  9.615960e+09  8.786205e+09  9.256373e+09   \n",
       "M        1.409072e+09  1.405946e+09  1.566878e+09  1.431303e+09  1.563934e+09   \n",
       "N        4.296579e+09  4.205000e+09  4.699881e+09  4.276349e+09  4.609539e+09   \n",
       "P        1.264377e+07  1.667048e+07  1.870642e+07  1.781875e+07  1.962239e+07   \n",
       "R        2.943521e+09  2.920888e+09  3.292807e+09  3.000459e+09  3.216558e+09   \n",
       "S        4.967237e+08  4.959234e+08  5.535103e+08  5.014256e+08  5.556593e+08   \n",
       "V        1.536298e+09  1.556573e+09  1.801865e+09  1.631803e+09  1.674671e+09   \n",
       "\n",
       "idoszak        202206        202207        202208  \n",
       "atc1                                               \n",
       "-        3.615644e+06  3.609538e+06  1.804349e+06  \n",
       "A        9.905000e+09  9.465499e+09  9.995631e+09  \n",
       "B        6.147394e+09  5.815425e+09  6.322889e+09  \n",
       "C        8.542958e+09  7.989127e+09  8.513935e+09  \n",
       "D        5.143592e+08  4.658089e+08  4.838408e+08  \n",
       "G        1.189387e+09  9.583523e+08  1.066668e+09  \n",
       "H        9.315195e+08  8.715443e+08  8.969208e+08  \n",
       "I        6.960119e+08  6.450958e+08  6.600117e+08  \n",
       "J        1.729218e+09  1.782991e+09  2.290598e+09  \n",
       "L        9.326893e+09  8.744477e+09  9.585266e+09  \n",
       "M        1.544288e+09  1.446327e+09  1.552026e+09  \n",
       "N        4.540371e+09  4.293328e+09  4.575378e+09  \n",
       "P        1.887547e+07  1.680270e+07  1.782012e+07  \n",
       "R        3.076720e+09  2.867963e+09  3.043252e+09  \n",
       "S        5.518769e+08  5.172913e+08  5.113309e+08  \n",
       "V        1.702956e+09  1.649154e+09  1.765639e+09  "
      ]
     },
     "execution_count": 36,
     "metadata": {},
     "output_type": "execute_result"
    }
   ],
   "source": [
    "df_atc1ft"
   ]
  },
  {
   "cell_type": "code",
   "execution_count": 31,
   "id": "fad6c40e",
   "metadata": {},
   "outputs": [],
   "source": [
    "# df.to_csv(\"neak_atc1.csv\", sep=\";\", encoding='utf-8', index=False)"
   ]
  },
  {
   "cell_type": "code",
   "execution_count": 37,
   "id": "34785d71",
   "metadata": {},
   "outputs": [],
   "source": [
    "df_atc1.to_sql((\"df_atc1_2022_dob\"), db, if_exists = 'replace')"
   ]
  },
  {
   "cell_type": "code",
   "execution_count": 38,
   "id": "6f9d9279",
   "metadata": {},
   "outputs": [],
   "source": [
    "df_atc1ft.to_sql((\"df_atc1_2022_ft\"), db, if_exists = 'replace')"
   ]
  },
  {
   "cell_type": "code",
   "execution_count": 39,
   "id": "5badca8a",
   "metadata": {},
   "outputs": [],
   "source": [
    "db.close()"
   ]
  },
  {
   "cell_type": "code",
   "execution_count": null,
   "id": "cb17ae9c",
   "metadata": {},
   "outputs": [],
   "source": []
  },
  {
   "cell_type": "markdown",
   "id": "3ce45d9a",
   "metadata": {},
   "source": [
    "## Havi felösszegzések előállítása whole2022 -> df_atc_idoszak"
   ]
  },
  {
   "cell_type": "code",
   "execution_count": 53,
   "id": "bed35ff3",
   "metadata": {},
   "outputs": [],
   "source": [
    "db = sqlite3.connect('neak2.sqlite3')"
   ]
  },
  {
   "cell_type": "code",
   "execution_count": 54,
   "id": "d64b4aff",
   "metadata": {},
   "outputs": [],
   "source": [
    "q = \"SELECT idoszak, atc, sum(doboz) AS sumdob, sum(fogyar) AS sumfogyar FROM whole2022 GROUP BY idoszak, atc;\""
   ]
  },
  {
   "cell_type": "code",
   "execution_count": 60,
   "id": "7008695b",
   "metadata": {},
   "outputs": [],
   "source": [
    "df = pd.read_sql(q, db)"
   ]
  },
  {
   "cell_type": "code",
   "execution_count": 61,
   "id": "c177f8ae",
   "metadata": {},
   "outputs": [],
   "source": [
    "df['atc1']= df['atc'].str.slice(0, 1)"
   ]
  },
  {
   "cell_type": "code",
   "execution_count": 62,
   "id": "40127839",
   "metadata": {},
   "outputs": [],
   "source": [
    "df['atc3']= df['atc'].str.slice(0, 3)"
   ]
  },
  {
   "cell_type": "code",
   "execution_count": 63,
   "id": "be52e3fe",
   "metadata": {},
   "outputs": [],
   "source": [
    "df['atc5']= df['atc'].str.slice(0, 5)"
   ]
  },
  {
   "cell_type": "code",
   "execution_count": null,
   "id": "202abb4c",
   "metadata": {},
   "outputs": [],
   "source": [
    "df['year']= df['idoszak'].str.slice(0, 4)"
   ]
  },
  {
   "cell_type": "code",
   "execution_count": null,
   "id": "952ac9eb",
   "metadata": {},
   "outputs": [],
   "source": [
    "df"
   ]
  },
  {
   "cell_type": "code",
   "execution_count": 65,
   "id": "52dc7e3e",
   "metadata": {},
   "outputs": [],
   "source": [
    "df.to_sql((\"df_atc_idoszak\"), db, if_exists = 'replace')"
   ]
  },
  {
   "cell_type": "code",
   "execution_count": 66,
   "id": "313dc6ad",
   "metadata": {},
   "outputs": [],
   "source": [
    "db.close()"
   ]
  },
  {
   "cell_type": "markdown",
   "id": "7b4e0c1a",
   "metadata": {},
   "source": [
    "## Havi felösszegzések előállítása whole2022 -> df_megye22"
   ]
  },
  {
   "cell_type": "code",
   "execution_count": 67,
   "id": "707527c5",
   "metadata": {},
   "outputs": [],
   "source": [
    "db = sqlite3.connect('neak2.sqlite3')"
   ]
  },
  {
   "cell_type": "code",
   "execution_count": 68,
   "id": "5395a791",
   "metadata": {},
   "outputs": [],
   "source": [
    "q = \"SELECT idoszak, megye, sum(doboz) AS sumdob, sum(fogyar) AS sumfogyar FROM whole2022 GROUP BY idoszak, megye;\""
   ]
  },
  {
   "cell_type": "code",
   "execution_count": 69,
   "id": "dbfe564b",
   "metadata": {},
   "outputs": [],
   "source": [
    "df = pd.read_sql(q, db)"
   ]
  },
  {
   "cell_type": "code",
   "execution_count": 70,
   "id": "926b0720",
   "metadata": {},
   "outputs": [],
   "source": [
    "# https://www.google.com/url?sa=t&rct=j&q=&esrc=s&source=web&cd=&ved=2ahUKEwjki_OS-5v5AhVN2aQKHajIDVkQFnoECBEQAQ&url=https%3A%2F%2Fwww.ksh.hu%2Fdocs%2Fhun%2Fxftp%2Froviditesek.pdf&usg=AOvVaw2_-SdIQNO8KCskUhnIm9gd\n",
    "# KSH módszertani útmutató\n",
    "# Megyék rövidítésjegyzéke\n",
    "\n",
    "megyedict = {\"BA\":\"Baranya\",\n",
    "\"BO\":\"Borsod-Abaúj-Zemplén\",\n",
    "\"BP\":\"Budapest\",\n",
    "\"BÁ\":\"Bács-Kiskun\",\n",
    "\"BÉ\":\"Békés\",\n",
    "\"CS\":\"Csongrád-Csanád\",\n",
    "\"FE\":\"Fejér\",\n",
    "\"GY\":\"Győr-Moson-Sopron\",\n",
    "\"HA\":\"Hajdú-Bihar\",\n",
    "\"HE\":\"Heves\",\n",
    "\"JÁ\":\"Jász-Nagykun-Szolnok\",\n",
    "\"KO\":\"Komárom-Esztergom\",\n",
    "\"NÓ\":\"Nógrád\",\n",
    "\"PE\":\"Pest\",\n",
    "\"SO\":\"Somogy\",\n",
    "\"SZ\":\"Szabolcs-Szatmár-Bereg\",\n",
    "\"TO\":\"Tolna\",\n",
    "\"VA\":\"Vas\",\n",
    "\"VE\":\"Veszprém\",\n",
    "\"ZA\":\"Zala\"}"
   ]
  },
  {
   "cell_type": "code",
   "execution_count": 71,
   "id": "0ee68e0b",
   "metadata": {},
   "outputs": [],
   "source": [
    "df['megyekod'] = df['megye']"
   ]
  },
  {
   "cell_type": "code",
   "execution_count": 72,
   "id": "d646fa1e",
   "metadata": {},
   "outputs": [],
   "source": [
    "df['megye'] = df['megye'].map(megyedict)"
   ]
  },
  {
   "cell_type": "code",
   "execution_count": 73,
   "id": "9d39858b",
   "metadata": {},
   "outputs": [],
   "source": [
    "df.sort_values(by=['megye','idoszak'], inplace=True)"
   ]
  },
  {
   "cell_type": "code",
   "execution_count": 75,
   "id": "a66dbdaf",
   "metadata": {},
   "outputs": [],
   "source": [
    "df_megye = df.pivot(index='megye', columns='idoszak', values='sumfogyar').fillna(0)"
   ]
  },
  {
   "cell_type": "code",
   "execution_count": null,
   "id": "935d530b",
   "metadata": {},
   "outputs": [],
   "source": [
    "df_megye"
   ]
  },
  {
   "cell_type": "code",
   "execution_count": 77,
   "id": "93aaaab2",
   "metadata": {},
   "outputs": [],
   "source": [
    "#df.to_csv(\"neak_megye.csv\", sep=\";\", encoding='utf-8', index=False)\n",
    "df_megye.to_sql((\"df_megye22\"), db, if_exists = 'replace')"
   ]
  },
  {
   "cell_type": "code",
   "execution_count": 78,
   "id": "601867c8",
   "metadata": {},
   "outputs": [],
   "source": [
    "db.close()"
   ]
  },
  {
   "cell_type": "markdown",
   "id": "1744a353",
   "metadata": {},
   "source": [
    "## Éves összegzések letöltése SQLite -> .csv (DataWrapper)"
   ]
  },
  {
   "cell_type": "code",
   "execution_count": 2,
   "id": "cf8f3553",
   "metadata": {},
   "outputs": [],
   "source": [
    "db = sqlite3.connect('neak2.sqlite3')"
   ]
  },
  {
   "cell_type": "code",
   "execution_count": 3,
   "id": "e81dc485",
   "metadata": {},
   "outputs": [],
   "source": [
    "q = \"select * from years\"\n",
    "df_years = pd.read_sql(q, db)"
   ]
  },
  {
   "cell_type": "markdown",
   "id": "37626cd7",
   "metadata": {},
   "source": [
    "### kialakítok egy éves teljes táblát, amelyből származtatok több speciális tablót a DW részére"
   ]
  },
  {
   "cell_type": "code",
   "execution_count": 4,
   "id": "4c571375",
   "metadata": {},
   "outputs": [],
   "source": [
    "sumdob2022 = df_years.iloc[16,1]/8*12\n",
    "sumtb2022 = df_years.iloc[16,2]/8*12\n",
    "sumfogyar2022 = df_years.iloc[16,3]/8*12\n",
    "sumterdij2022 = df_years.iloc[16,4]/8*12"
   ]
  },
  {
   "cell_type": "code",
   "execution_count": 5,
   "id": "fe11b49b",
   "metadata": {},
   "outputs": [],
   "source": [
    "df_years.iloc[16,0] = 'CALC2022'\n",
    "df_years.iloc[16,1] = sumdob2022\n",
    "df_years.iloc[16,2] = sumtb2022\n",
    "df_years.iloc[16,3] = sumfogyar2022\n",
    "df_years.iloc[16,4] = sumterdij2022"
   ]
  },
  {
   "cell_type": "code",
   "execution_count": 6,
   "id": "cee3b87c",
   "metadata": {},
   "outputs": [],
   "source": [
    "df_years['allami'] = df_years['sumfogyar'] - df_years['sumterdij']"
   ]
  },
  {
   "cell_type": "code",
   "execution_count": null,
   "id": "5a147ff3",
   "metadata": {},
   "outputs": [],
   "source": [
    "# ez a félkész alaptábla\n",
    "df_years"
   ]
  },
  {
   "cell_type": "code",
   "execution_count": 9,
   "id": "f2fc788d",
   "metadata": {},
   "outputs": [],
   "source": [
    "# mivel csak egy kategóriával dolgozunk az éves változásokhoz használhatjuk a .shift() funkciót\n",
    "# így idő-intelligenciát használunk\n",
    "\n",
    "df_years['changeSumDob'] = (((df_years['sumdob']/df_years.shift(1, axis = 0)['sumdob'])-1)*100).round(decimals=2)\n",
    "df_years['changeAllami'] = (((df_years['allami']/df_years.shift(1, axis = 0)['allami'])-1)*100).round(decimals=2)\n",
    "df_years['changeSumTerdij'] = (((df_years['sumterdij']/df_years.shift(1, axis = 0)['sumterdij'])-1)*100).round(decimals=2)\n",
    "df_years = df_years.fillna(0)"
   ]
  },
  {
   "cell_type": "code",
   "execution_count": null,
   "id": "fbbd4f29",
   "metadata": {},
   "outputs": [],
   "source": [
    "# ez a kész alaptábla\n",
    "\n",
    "df_years"
   ]
  },
  {
   "cell_type": "code",
   "execution_count": 12,
   "id": "1addb57c",
   "metadata": {},
   "outputs": [],
   "source": [
    "# df_years1: Vényes gyógyszerforgalom és az állam költsége\n",
    "\n",
    "df_years1 = df_years.drop(columns=['sumdob', 'sumtb', 'sumfogyar', 'ttt_db', 'changeSumDob', 'changeAllami', 'changeSumTerdij'])"
   ]
  },
  {
   "cell_type": "code",
   "execution_count": null,
   "id": "2887d81c",
   "metadata": {},
   "outputs": [],
   "source": [
    "df_years1"
   ]
  },
  {
   "cell_type": "code",
   "execution_count": 14,
   "id": "fde83599",
   "metadata": {},
   "outputs": [],
   "source": [
    "# Éves változások százalékban 2006-tól\n",
    "\n",
    "df_years2 = df_years.drop(columns=['sumdob', 'sumtb', 'sumfogyar', 'sumterdij', 'ttt_db', 'allami', 'changeSumDob'])"
   ]
  },
  {
   "cell_type": "code",
   "execution_count": null,
   "id": "f74a88f3",
   "metadata": {},
   "outputs": [],
   "source": [
    "df_years2"
   ]
  },
  {
   "cell_type": "code",
   "execution_count": 21,
   "id": "aa874b16",
   "metadata": {},
   "outputs": [],
   "source": [
    "# df_years3: Vényes dobozforgalom alakulása\n",
    "\n",
    "df_years3 = df_years.drop(columns=['sumdob','sumtb', 'sumfogyar', 'sumterdij', 'ttt_db', 'allami', 'changeAllami', 'changeSumTerdij'])"
   ]
  },
  {
   "cell_type": "code",
   "execution_count": null,
   "id": "1e6a5db5",
   "metadata": {},
   "outputs": [],
   "source": [
    "df_years3"
   ]
  },
  {
   "cell_type": "code",
   "execution_count": 16,
   "id": "2d0b76ac",
   "metadata": {},
   "outputs": [],
   "source": [
    "df_years1.to_sql((\"df_years1\"), db, if_exists = 'replace')\n",
    "df_years2.to_sql((\"df_years2\"), db, if_exists = 'replace')"
   ]
  },
  {
   "cell_type": "code",
   "execution_count": 17,
   "id": "653dadcf",
   "metadata": {},
   "outputs": [],
   "source": [
    "df_years1.to_csv(\"neak_years1.csv\", sep=\";\", encoding='utf-8', index=False)"
   ]
  },
  {
   "cell_type": "code",
   "execution_count": 18,
   "id": "3cb74c24",
   "metadata": {},
   "outputs": [],
   "source": [
    "df_years2.to_csv(\"neak_years2.csv\", sep=\";\", encoding='utf-8', index=False)"
   ]
  },
  {
   "cell_type": "code",
   "execution_count": 23,
   "id": "c5a95db2",
   "metadata": {},
   "outputs": [],
   "source": [
    "df_years3.to_sql((\"df_years3\"), db, if_exists = 'replace')"
   ]
  },
  {
   "cell_type": "code",
   "execution_count": 24,
   "id": "fd429a65",
   "metadata": {},
   "outputs": [],
   "source": [
    "df_years3.to_csv(\"neak_years3.csv\", sep=\";\", encoding='utf-8', index=False)"
   ]
  },
  {
   "cell_type": "markdown",
   "id": "3613887c",
   "metadata": {},
   "source": [
    "### DataWrapper: éves bontású ATC1 tábla leszedése"
   ]
  },
  {
   "cell_type": "code",
   "execution_count": 2,
   "id": "1e9b999a",
   "metadata": {},
   "outputs": [],
   "source": [
    "db = sqlite3.connect('neak2.sqlite3')"
   ]
  },
  {
   "cell_type": "code",
   "execution_count": 3,
   "id": "3e7fa80e",
   "metadata": {},
   "outputs": [],
   "source": [
    "# ezt minden hónapban egyszer le kell futtatni\n",
    "\n",
    "q = \"select * from atc1\"   # ezt minden hónapban egyszer le kell futtatni\n",
    "df_atc1 = pd.read_sql(q, db)    # ezt minden hónapban egyszer le kell futtatni"
   ]
  },
  {
   "cell_type": "code",
   "execution_count": 5,
   "id": "4b041815",
   "metadata": {},
   "outputs": [],
   "source": [
    "df_atc1.to_sql((\"df_atc1\"), db, if_exists = 'replace')   # ezt minden hónapban egyszer le kell futtatni"
   ]
  },
  {
   "cell_type": "code",
   "execution_count": 9,
   "id": "4f768de0",
   "metadata": {},
   "outputs": [],
   "source": [
    "q = \"select * from df_atc1\"\n",
    "df_atc1 = pd.read_sql(q, db)"
   ]
  },
  {
   "cell_type": "code",
   "execution_count": 11,
   "id": "e5a855f6",
   "metadata": {},
   "outputs": [],
   "source": [
    "# éves bontású ATC1 fogyár forgalommal\n",
    "\n",
    "df_atc1FtChange = df_atc1.pivot(index='atc1', columns='year', values='sumfogyar').fillna(0)"
   ]
  },
  {
   "cell_type": "code",
   "execution_count": 12,
   "id": "24123370",
   "metadata": {},
   "outputs": [],
   "source": [
    "df_atc1FtChange = df_atc1FtChange[1:]   # első sor kihagyása"
   ]
  },
  {
   "cell_type": "code",
   "execution_count": 13,
   "id": "3ff500c4",
   "metadata": {},
   "outputs": [],
   "source": [
    "df_atc1FtChange = df_atc1FtChange.head(15)  # utolsó sor kihagyása"
   ]
  },
  {
   "cell_type": "code",
   "execution_count": 15,
   "id": "12f4da9d",
   "metadata": {},
   "outputs": [],
   "source": [
    "df_atc1FtChange = df_atc1FtChange[['2006', 'v2022MAT']]   #csak két oszlop kiválasztása"
   ]
  },
  {
   "cell_type": "code",
   "execution_count": null,
   "id": "08793d90",
   "metadata": {},
   "outputs": [],
   "source": [
    "df_atc1FtChange"
   ]
  },
  {
   "cell_type": "code",
   "execution_count": 17,
   "id": "214896ae",
   "metadata": {},
   "outputs": [],
   "source": [
    "# éves bontású ATC1 doboz forgalommal\n",
    "\n",
    "df_atc1DbChange = df_atc1.pivot(index='atc1', columns='year', values='sumdob').fillna(0)"
   ]
  },
  {
   "cell_type": "code",
   "execution_count": null,
   "id": "82aafc3b",
   "metadata": {},
   "outputs": [],
   "source": [
    "df_atc1DbChange"
   ]
  },
  {
   "cell_type": "code",
   "execution_count": null,
   "id": "63f43587",
   "metadata": {},
   "outputs": [],
   "source": [
    "df_atc1DbChange = df_atc1DbChange[1:]   # első sor kihagyása\n",
    "df_atc1DbChange = df_atc1DbChange.head(15)  # utolsó sor kihagyása\n",
    "df_atc1DbChange = df_atc1DbChange[['2006', 'v2022MAT']]   #csak két oszlop kiválasztása\n",
    "df_atc1DbChange"
   ]
  },
  {
   "cell_type": "code",
   "execution_count": 20,
   "id": "c9c7af4a",
   "metadata": {},
   "outputs": [],
   "source": [
    "df_atc1FtChange.to_sql((\"df_atc1FtChange\"), db, if_exists = 'replace')\n",
    "df_atc1DbChange.to_sql((\"df_atc1DbChange\"), db, if_exists = 'replace')"
   ]
  },
  {
   "cell_type": "code",
   "execution_count": null,
   "id": "e1044c0b",
   "metadata": {},
   "outputs": [],
   "source": [
    "df_atc1DbChange"
   ]
  },
  {
   "cell_type": "code",
   "execution_count": 22,
   "id": "ef720e14",
   "metadata": {},
   "outputs": [],
   "source": [
    "df_atc1FtChange.to_csv(\"neak_atc1FtChange.csv\", sep=\";\", encoding='utf-8', index=True)\n",
    "df_atc1DbChange.to_csv(\"neak_atc1DbChange.csv\", sep=\";\", encoding='utf-8', index=True)"
   ]
  },
  {
   "cell_type": "code",
   "execution_count": 23,
   "id": "fa20929d",
   "metadata": {},
   "outputs": [],
   "source": [
    "db.close()"
   ]
  },
  {
   "cell_type": "code",
   "execution_count": null,
   "id": "3901105a",
   "metadata": {},
   "outputs": [],
   "source": []
  },
  {
   "cell_type": "markdown",
   "id": "0543b4d4",
   "metadata": {},
   "source": [
    "### DataWrapper: éves bontású ATC tábla: view atc_idoszak -> DataWrapper felé .csv"
   ]
  },
  {
   "cell_type": "code",
   "execution_count": 1,
   "id": "fee736f4",
   "metadata": {},
   "outputs": [],
   "source": [
    "atcDict = {\"A01\":\"stomatological preparations\",\n",
    "\"A02\":\"antacids, drugs for treatment of peptic ulcer and flatulence\",\n",
    "\"A03\":\"antispasmodic and anticholinergic agents and propulsives\",\n",
    "\"A04\":\"antiemetics and antinauseants\",\n",
    "\"A05\":\"bile and liver therapy\",\n",
    "\"A06\":\"laxatives\",\n",
    "\"A07\":\"antidiarrheals, intestinal antiinflammatory/antiinfective agents\",\n",
    "\"A08\":\"antiobesity preparations, excl. diet products\",\n",
    "\"A09\":\"digestives, incl. enzymes\",\n",
    "\"A10\":\"drugs used in diabetes\",\n",
    "\"A11\":\"vitamins\",\n",
    "\"A12\":\"supplements\",\n",
    "\"A13\":\"tonics\",\n",
    "\"A14\":\"anabolic agents for systemic use\",\n",
    "\"A15\":\"appetite stimulants\",\n",
    "\"A16\":\"other alimentary tract and metabolism products\",\n",
    "\"B01\":\"antithrombotic agents\",\n",
    "\"B02\":\"antihemorrhagics\",\n",
    "\"B03\":\"antianemic preparations\",\n",
    "\"B04\":\"lipid modifying agents\",\n",
    "\"B05\":\"blood substitutes and perfusion solutions\",\n",
    "\"B06\":\"other hematological agents\",\n",
    "\"C01\":\"cardiac therapy\",\n",
    "\"C02\":\"antihypertensives\",\n",
    "\"C03\":\"diuretics\",\n",
    "\"C04\":\"peripheral vasodilators\",\n",
    "\"C05\":\"vasoprotectives\",\n",
    "\"C07\":\"beta blocking agents\",\n",
    "\"C08\":\"calcium channel blockers\",\n",
    "\"C09\":\"agents acting on the renin-angiotensin system\",\n",
    "\"C10\":\"serum lipid reducing agents\",\n",
    "\"D01\":\"antifungals for dermatological use\",\n",
    "\"D02\":\"emollients and protectives\",\n",
    "\"D03\":\"preparations for treatment of wounds and ulcers\",\n",
    "\"D04\":\"antipruritics, incl. antihistamines, anesthetics, etc.\",\n",
    "\"D05\":\"antipsoriatics\",\n",
    "\"D06\":\"antibiotics and chemotherapeutics for dermatological use\",\n",
    "\"D07\":\"corticosteroids, dermatological preparations\",\n",
    "\"D08\":\"antiseptics and disinfectants\",\n",
    "\"D09\":\"medicated dressings\",\n",
    "\"D10\":\"anti-acne preparations\",\n",
    "\"D11\":\"other dermatological preparations\",\n",
    "\"G01\":\"gynecological antiinfectives and antiseptics\",\n",
    "\"G02\":\"other gynecologicals\",\n",
    "\"G03\":\"sex hormones and modulators of the genital system\",\n",
    "\"G04\":\"urologicals\",\n",
    "\"H01\":\"pituitary and hypothalamic hormones and analogues\",\n",
    "\"H02\":\"corticosteroids for systemic use\",\n",
    "\"H03\":\"thyroid therapy\",\n",
    "\"H04\":\"pancreatic hormones\",\n",
    "\"H05\":\"calcium homeostasis\",\n",
    "\"H10\":\"other hormones\",\n",
    "\"ISM\":\"unknown\",\n",
    "\"J01\":\"antibacterials for systemic use\",\n",
    "\"J02\":\"antimycotics for systemic use\",\n",
    "\"J03\":\"other J\",\n",
    "\"J04\":\"antimycobacterials\",\n",
    "\"J05\":\"antivirals for systemic use\",\n",
    "\"J06\":\"immune sera and immunoglobulins\",\n",
    "\"J07\":\"vaccines\",\n",
    "\"J08\":\"other antiinfectives, unknown\",\n",
    "\"L01\":\"antineoplastic agents\",\n",
    "\"L02\":\"endocrine therapy\",\n",
    "\"L03\":\"immunostimulants\",\n",
    "\"L04\":\"immunosuppressive agents\",\n",
    "\"M01\":\"antiinflammatory and antirheumatic products\",\n",
    "\"M02\":\"topical products for joint and muscular pain\",\n",
    "\"M03\":\"muscle relaxants\",\n",
    "\"M04\":\"antigout preparations\",\n",
    "\"M05\":\"drugs for treatment of bone diseases\",\n",
    "\"M09\":\"other drugs for disorders of the musculo-skeletal system\",\n",
    "\"N01\":\"anesthetics\",\n",
    "\"N02\":\"analgesics\",\n",
    "\"N03\":\"antiepileptics\",\n",
    "\"N04\":\"anti-parkinson drugs\",\n",
    "\"N05\":\"psycholeptics\",\n",
    "\"N06\":\"psychoanaleptics\",\n",
    "\"N07\":\"other nervous system drugs\",\n",
    "\"NO7\":\"unknown N\",\n",
    "\"P01\":\"antiprotozoals\",\n",
    "\"P02\":\"anthelmintics\",\n",
    "\"P03\":\"ectoparasiticides, incl. scabicides, insecticides and repellents\",\n",
    "\"R01\":\"nasal preparations\",\n",
    "\"R02\":\"throat preparations\",\n",
    "\"R03\":\"anti-asthmatics\",\n",
    "\"R04\":\"other R\",\n",
    "\"R05\":\"cough and cold preparations\",\n",
    "\"R06\":\"antihistamines for systemic use\",\n",
    "\"R07\":\"other respiratory system products\",\n",
    "\"S01\":\"ophthalmologicals\",\n",
    "\"S02\":\"otologicals\",\n",
    "\"S03\":\"ophthalmological and otological preparations\",\n",
    "\"V01\":\"allergens\",\n",
    "\"V02\":\"immunsupressiva\",\n",
    "\"V03\":\"all other therapeutic products\",\n",
    "\"V04\":\"diagnostic agents\",\n",
    "\"V05\":\"surgical antiseptics\",\n",
    "\"V06\":\"general nutrients\",\n",
    "\"V07\":\"all other non-therapeutic products\",\n",
    "\"V08\":\"contrast media\",\n",
    "\"V09\":\"diagnostic radiopharmaceuticals\",\n",
    "\"V10\":\"therapeutic radiopharmaceuticals\",\n",
    "\"V20\":\"surgical dressings\"}"
   ]
  },
  {
   "cell_type": "markdown",
   "id": "f02be3af",
   "metadata": {},
   "source": [
    "#### ATC = \"J01\" csoportba tartozó hatóanyagok"
   ]
  },
  {
   "cell_type": "code",
   "execution_count": 15,
   "id": "e06e9e1d",
   "metadata": {},
   "outputs": [],
   "source": [
    "db = sqlite3.connect('neak2.sqlite3')"
   ]
  },
  {
   "cell_type": "code",
   "execution_count": 54,
   "id": "a67da91c",
   "metadata": {},
   "outputs": [],
   "source": [
    "q = \"select * from atc_idoszak where atc like 'J01%';\"\n",
    "df = pd.read_sql(q, db)"
   ]
  },
  {
   "cell_type": "code",
   "execution_count": 55,
   "id": "d88beae1",
   "metadata": {},
   "outputs": [],
   "source": [
    "df['year']= df['idoszak'].str.slice(0, 4)"
   ]
  },
  {
   "cell_type": "code",
   "execution_count": 56,
   "id": "05fa77b1",
   "metadata": {},
   "outputs": [],
   "source": [
    "df['atc5'] = df['atc'].str.slice(0, 5)"
   ]
  },
  {
   "cell_type": "code",
   "execution_count": 57,
   "id": "e7ff2cfa",
   "metadata": {},
   "outputs": [],
   "source": [
    "atcJDict = {'J01AA': 'J01REST',\n",
    "'J01C ': 'J01REST',\n",
    "'J01CA': 'J01REST',\n",
    "'J01CE': 'J01REST',\n",
    "'J01CF': 'J01REST',\n",
    "'J01CR': 'J01CR',\n",
    "'J01DA': 'J01REST',\n",
    "'J01DB': 'J01REST',\n",
    "'J01DC': 'J01DC',\n",
    "'J01DD': 'J01DD',\n",
    "'J01DE': 'J01REST',\n",
    "'J01DH': 'J01REST',\n",
    "'J01EE': 'J01REST',\n",
    "'J01FA': 'J01FA',\n",
    "'J01FF': 'J01FF',\n",
    "'J01GA': 'J01REST',\n",
    "'J01GB': 'J01REST',\n",
    "'J01MA': 'J01MA',\n",
    "'J01MB': 'J01REST',\n",
    "'J01XA': 'J01REST',\n",
    "'J01XB': 'J01REST',\n",
    "'J01XD': 'J01REST',\n",
    "'J01XE': 'J01REST',\n",
    "'J01XX': 'J01REST'}"
   ]
  },
  {
   "cell_type": "code",
   "execution_count": 58,
   "id": "3de5ae1b",
   "metadata": {},
   "outputs": [],
   "source": [
    "df['atc5'] = df['atc5'].map(atcJDict)"
   ]
  },
  {
   "cell_type": "code",
   "execution_count": 64,
   "id": "010b0325",
   "metadata": {},
   "outputs": [],
   "source": [
    "dfp = df.pivot_table(index=['atc5'], columns='year', values='sumfogyar', aggfunc= 'sum', margins = True, margins_name='Total').fillna(0)"
   ]
  },
  {
   "cell_type": "code",
   "execution_count": 66,
   "id": "f130bc2d",
   "metadata": {},
   "outputs": [],
   "source": [
    "dfp.reset_index(inplace=True)\n",
    "dfp = dfp.rename(columns = {'index':'atc5'})\n",
    "dfp = dfp.drop(columns=['Total'])\n",
    "# dfp['atcmasik'] = dfp['atc']"
   ]
  },
  {
   "cell_type": "code",
   "execution_count": null,
   "id": "a4fae0e4",
   "metadata": {},
   "outputs": [],
   "source": [
    "dfp"
   ]
  },
  {
   "cell_type": "code",
   "execution_count": 68,
   "id": "3c6aeb6e",
   "metadata": {},
   "outputs": [],
   "source": [
    "dfp.to_csv(\"neak_atc5JYearly.csv\", sep=\";\", encoding='utf-8', index=False)"
   ]
  },
  {
   "cell_type": "code",
   "execution_count": 69,
   "id": "fc1a0425",
   "metadata": {},
   "outputs": [],
   "source": [
    "db.close()"
   ]
  },
  {
   "cell_type": "code",
   "execution_count": null,
   "id": "9ba83992",
   "metadata": {},
   "outputs": [],
   "source": []
  },
  {
   "cell_type": "code",
   "execution_count": null,
   "id": "fd085b7e",
   "metadata": {},
   "outputs": [],
   "source": []
  },
  {
   "cell_type": "code",
   "execution_count": null,
   "id": "943c249c",
   "metadata": {},
   "outputs": [],
   "source": []
  },
  {
   "cell_type": "code",
   "execution_count": null,
   "id": "795684ba",
   "metadata": {},
   "outputs": [],
   "source": []
  },
  {
   "cell_type": "code",
   "execution_count": null,
   "id": "2cb805ad",
   "metadata": {},
   "outputs": [],
   "source": []
  },
  {
   "cell_type": "markdown",
   "id": "f9dbc3af",
   "metadata": {},
   "source": [
    "#### ATC = \"L\" csoportba tartozó hatóanyagcsoportok ATC3 szinten"
   ]
  },
  {
   "cell_type": "code",
   "execution_count": 4,
   "id": "5a605852",
   "metadata": {},
   "outputs": [],
   "source": [
    "db = sqlite3.connect('neak2.sqlite3')"
   ]
  },
  {
   "cell_type": "code",
   "execution_count": 5,
   "id": "d7245c35",
   "metadata": {},
   "outputs": [],
   "source": [
    "q = \"select * from atc3 where atc3 like 'L%';\"\n",
    "df = pd.read_sql(q, db)"
   ]
  },
  {
   "cell_type": "code",
   "execution_count": 6,
   "id": "199f8f55",
   "metadata": {},
   "outputs": [],
   "source": [
    "df = df.pivot_table(index=['atc3'], columns='year', values='sumfogyar', aggfunc= 'sum', margins = True, margins_name='Total').fillna(0)"
   ]
  },
  {
   "cell_type": "code",
   "execution_count": 8,
   "id": "00432276",
   "metadata": {},
   "outputs": [],
   "source": [
    "df = df.drop(columns=['2022', 'Total'])"
   ]
  },
  {
   "cell_type": "code",
   "execution_count": 10,
   "id": "4398ef3c",
   "metadata": {},
   "outputs": [],
   "source": [
    "df.reset_index(inplace=True)\n",
    "df = df.rename(columns = {'index':'atc3'})"
   ]
  },
  {
   "cell_type": "code",
   "execution_count": 11,
   "id": "919485c9",
   "metadata": {},
   "outputs": [],
   "source": [
    "df['atcDescription'] = df['atc3']\n",
    "df['atcDescription'] = df['atcDescription'].map(atcDict)"
   ]
  },
  {
   "cell_type": "code",
   "execution_count": 13,
   "id": "5b59e20b",
   "metadata": {},
   "outputs": [],
   "source": [
    "df.to_csv(\"neak_atc3LYearly.csv\", sep=\";\", encoding='utf-8', index=False)"
   ]
  },
  {
   "cell_type": "code",
   "execution_count": 14,
   "id": "bd50186e",
   "metadata": {},
   "outputs": [],
   "source": [
    "db.close()"
   ]
  },
  {
   "cell_type": "markdown",
   "id": "2789724c",
   "metadata": {},
   "source": [
    "### DataWrapper: éves bontású ATC3 tábla: view atc3 -> df_atc3"
   ]
  },
  {
   "cell_type": "code",
   "execution_count": null,
   "id": "91559e67",
   "metadata": {},
   "outputs": [],
   "source": [
    "db = sqlite3.connect('neak2.sqlite3')"
   ]
  },
  {
   "cell_type": "markdown",
   "id": "e467ab2f",
   "metadata": {},
   "source": [
    "#### ATC3 = \"V\""
   ]
  },
  {
   "cell_type": "code",
   "execution_count": 49,
   "id": "97bd087c",
   "metadata": {},
   "outputs": [],
   "source": [
    "q = \"select * from atc3 where atc3 like 'V%';\"\n",
    "df = pd.read_sql(q, db)"
   ]
  },
  {
   "cell_type": "code",
   "execution_count": 52,
   "id": "96005a0b",
   "metadata": {},
   "outputs": [],
   "source": [
    "# df = df.pivot(index=['atc1', 'atc3'], columns='year', values='sumfogyar').fillna(0)\n",
    "\n",
    "df = df.pivot_table(index=['atc3'], columns='year', values='sumfogyar', aggfunc= 'sum', margins = True, margins_name='Total').fillna(0)"
   ]
  },
  {
   "cell_type": "code",
   "execution_count": 55,
   "id": "12ddd565",
   "metadata": {},
   "outputs": [],
   "source": [
    "df.reset_index(inplace=True)\n",
    "df = df.rename(columns = {'index':'atc3'})"
   ]
  },
  {
   "cell_type": "code",
   "execution_count": 57,
   "id": "8b7e7838",
   "metadata": {},
   "outputs": [],
   "source": [
    "df = df.drop(columns=['2007', '2008', '2009', '2010', '2011', '2012', '2013', '2014', '2015', '2016', '2017', '2018', '2019', '2020', '2021', '2022', 'Total'])"
   ]
  },
  {
   "cell_type": "code",
   "execution_count": 58,
   "id": "90c291dc",
   "metadata": {},
   "outputs": [],
   "source": [
    "df['change'] = ((df['v2022MAT']/df['2006'])-1)*100"
   ]
  },
  {
   "cell_type": "code",
   "execution_count": 60,
   "id": "ba838eb3",
   "metadata": {},
   "outputs": [],
   "source": [
    "df['atcDescription'] = df['atc3']"
   ]
  },
  {
   "cell_type": "code",
   "execution_count": 61,
   "id": "30a1ea50",
   "metadata": {},
   "outputs": [],
   "source": [
    "df['atcDescription'] = df['atcDescription'].map(atcDict)"
   ]
  },
  {
   "cell_type": "code",
   "execution_count": 63,
   "id": "c461cb0c",
   "metadata": {},
   "outputs": [
    {
     "data": {
      "text/html": [
       "<div>\n",
       "<style scoped>\n",
       "    .dataframe tbody tr th:only-of-type {\n",
       "        vertical-align: middle;\n",
       "    }\n",
       "\n",
       "    .dataframe tbody tr th {\n",
       "        vertical-align: top;\n",
       "    }\n",
       "\n",
       "    .dataframe thead th {\n",
       "        text-align: right;\n",
       "    }\n",
       "</style>\n",
       "<table border=\"1\" class=\"dataframe\">\n",
       "  <thead>\n",
       "    <tr style=\"text-align: right;\">\n",
       "      <th>year</th>\n",
       "      <th>atc3</th>\n",
       "      <th>2006</th>\n",
       "      <th>v2022MAT</th>\n",
       "      <th>change</th>\n",
       "      <th>atcDescription</th>\n",
       "    </tr>\n",
       "  </thead>\n",
       "  <tbody>\n",
       "    <tr>\n",
       "      <th>0</th>\n",
       "      <td>V01</td>\n",
       "      <td>1.188866e+07</td>\n",
       "      <td>3.645538e+07</td>\n",
       "      <td>206.640009</td>\n",
       "      <td>allergens</td>\n",
       "    </tr>\n",
       "    <tr>\n",
       "      <th>1</th>\n",
       "      <td>V03</td>\n",
       "      <td>6.873529e+08</td>\n",
       "      <td>6.459800e+08</td>\n",
       "      <td>-6.019169</td>\n",
       "      <td>all other therapeutic products</td>\n",
       "    </tr>\n",
       "    <tr>\n",
       "      <th>2</th>\n",
       "      <td>V04</td>\n",
       "      <td>2.551811e+07</td>\n",
       "      <td>4.496552e+07</td>\n",
       "      <td>76.210225</td>\n",
       "      <td>diagnostic agents</td>\n",
       "    </tr>\n",
       "    <tr>\n",
       "      <th>3</th>\n",
       "      <td>V06</td>\n",
       "      <td>7.606720e+09</td>\n",
       "      <td>1.915908e+10</td>\n",
       "      <td>151.870402</td>\n",
       "      <td>general nutrients</td>\n",
       "    </tr>\n",
       "    <tr>\n",
       "      <th>4</th>\n",
       "      <td>V07</td>\n",
       "      <td>1.070456e+08</td>\n",
       "      <td>4.050798e+05</td>\n",
       "      <td>-99.621582</td>\n",
       "      <td>all other non-therapeutic products</td>\n",
       "    </tr>\n",
       "    <tr>\n",
       "      <th>5</th>\n",
       "      <td>V08</td>\n",
       "      <td>2.994750e+05</td>\n",
       "      <td>0.000000e+00</td>\n",
       "      <td>-100.000000</td>\n",
       "      <td>contrast media</td>\n",
       "    </tr>\n",
       "    <tr>\n",
       "      <th>6</th>\n",
       "      <td>V10</td>\n",
       "      <td>5.610173e+07</td>\n",
       "      <td>0.000000e+00</td>\n",
       "      <td>-100.000000</td>\n",
       "      <td>therapeutic radiopharmaceuticals</td>\n",
       "    </tr>\n",
       "    <tr>\n",
       "      <th>7</th>\n",
       "      <td>Total</td>\n",
       "      <td>8.494926e+09</td>\n",
       "      <td>1.988688e+10</td>\n",
       "      <td>134.103051</td>\n",
       "      <td>Total</td>\n",
       "    </tr>\n",
       "  </tbody>\n",
       "</table>\n",
       "</div>"
      ],
      "text/plain": [
       "year   atc3          2006      v2022MAT      change  \\\n",
       "0       V01  1.188866e+07  3.645538e+07  206.640009   \n",
       "1       V03  6.873529e+08  6.459800e+08   -6.019169   \n",
       "2       V04  2.551811e+07  4.496552e+07   76.210225   \n",
       "3       V06  7.606720e+09  1.915908e+10  151.870402   \n",
       "4       V07  1.070456e+08  4.050798e+05  -99.621582   \n",
       "5       V08  2.994750e+05  0.000000e+00 -100.000000   \n",
       "6       V10  5.610173e+07  0.000000e+00 -100.000000   \n",
       "7     Total  8.494926e+09  1.988688e+10  134.103051   \n",
       "\n",
       "year                      atcDescription  \n",
       "0                              allergens  \n",
       "1         all other therapeutic products  \n",
       "2                      diagnostic agents  \n",
       "3                      general nutrients  \n",
       "4     all other non-therapeutic products  \n",
       "5                         contrast media  \n",
       "6       therapeutic radiopharmaceuticals  \n",
       "7                                  Total  "
      ]
     },
     "execution_count": 63,
     "metadata": {},
     "output_type": "execute_result"
    }
   ],
   "source": [
    "df.fillna('Total')"
   ]
  },
  {
   "cell_type": "code",
   "execution_count": 64,
   "id": "760a94c3",
   "metadata": {},
   "outputs": [],
   "source": [
    "df.to_csv(\"neak_atc3V.csv\", sep=\";\", encoding='utf-8', index=True)"
   ]
  },
  {
   "cell_type": "markdown",
   "id": "f6e44bed",
   "metadata": {},
   "source": [
    "### ATC3 = \"I\""
   ]
  },
  {
   "cell_type": "code",
   "execution_count": 65,
   "id": "3eb49e3e",
   "metadata": {},
   "outputs": [],
   "source": [
    "q = \"select * from atc3 where atc3 like 'I%';\"\n",
    "df = pd.read_sql(q, db)"
   ]
  },
  {
   "cell_type": "code",
   "execution_count": 67,
   "id": "dae440e7",
   "metadata": {},
   "outputs": [],
   "source": [
    "df = df.pivot_table(index=['atc3'], columns='year', values='sumfogyar', aggfunc= 'sum', margins = True, margins_name='Total').fillna(0)"
   ]
  },
  {
   "cell_type": "code",
   "execution_count": 68,
   "id": "1d749a75",
   "metadata": {},
   "outputs": [
    {
     "data": {
      "text/html": [
       "<div>\n",
       "<style scoped>\n",
       "    .dataframe tbody tr th:only-of-type {\n",
       "        vertical-align: middle;\n",
       "    }\n",
       "\n",
       "    .dataframe tbody tr th {\n",
       "        vertical-align: top;\n",
       "    }\n",
       "\n",
       "    .dataframe thead th {\n",
       "        text-align: right;\n",
       "    }\n",
       "</style>\n",
       "<table border=\"1\" class=\"dataframe\">\n",
       "  <thead>\n",
       "    <tr style=\"text-align: right;\">\n",
       "      <th>year</th>\n",
       "      <th>2006</th>\n",
       "      <th>2007</th>\n",
       "      <th>2008</th>\n",
       "      <th>2009</th>\n",
       "      <th>2010</th>\n",
       "      <th>2011</th>\n",
       "      <th>2012</th>\n",
       "      <th>2013</th>\n",
       "      <th>2014</th>\n",
       "      <th>2015</th>\n",
       "      <th>2016</th>\n",
       "      <th>2017</th>\n",
       "      <th>2018</th>\n",
       "      <th>2019</th>\n",
       "      <th>2020</th>\n",
       "      <th>2021</th>\n",
       "      <th>2022</th>\n",
       "      <th>v2022MAT</th>\n",
       "      <th>Total</th>\n",
       "    </tr>\n",
       "    <tr>\n",
       "      <th>atc3</th>\n",
       "      <th></th>\n",
       "      <th></th>\n",
       "      <th></th>\n",
       "      <th></th>\n",
       "      <th></th>\n",
       "      <th></th>\n",
       "      <th></th>\n",
       "      <th></th>\n",
       "      <th></th>\n",
       "      <th></th>\n",
       "      <th></th>\n",
       "      <th></th>\n",
       "      <th></th>\n",
       "      <th></th>\n",
       "      <th></th>\n",
       "      <th></th>\n",
       "      <th></th>\n",
       "      <th></th>\n",
       "      <th></th>\n",
       "    </tr>\n",
       "  </thead>\n",
       "  <tbody>\n",
       "    <tr>\n",
       "      <th>ISM</th>\n",
       "      <td>5.331336e+08</td>\n",
       "      <td>2.792590e+08</td>\n",
       "      <td>1.203226e+08</td>\n",
       "      <td>6.548920e+09</td>\n",
       "      <td>6.681486e+09</td>\n",
       "      <td>6.722886e+09</td>\n",
       "      <td>6.859036e+09</td>\n",
       "      <td>7.311039e+09</td>\n",
       "      <td>7.855937e+09</td>\n",
       "      <td>8.325405e+09</td>\n",
       "      <td>8.555458e+09</td>\n",
       "      <td>8.697366e+09</td>\n",
       "      <td>8.796175e+09</td>\n",
       "      <td>8.787115e+09</td>\n",
       "      <td>8.029687e+09</td>\n",
       "      <td>8.417309e+09</td>\n",
       "      <td>5.586252e+09</td>\n",
       "      <td>8.572221e+09</td>\n",
       "      <td>1.166790e+11</td>\n",
       "    </tr>\n",
       "    <tr>\n",
       "      <th>Total</th>\n",
       "      <td>5.331336e+08</td>\n",
       "      <td>2.792590e+08</td>\n",
       "      <td>1.203226e+08</td>\n",
       "      <td>6.548920e+09</td>\n",
       "      <td>6.681486e+09</td>\n",
       "      <td>6.722886e+09</td>\n",
       "      <td>6.859036e+09</td>\n",
       "      <td>7.311039e+09</td>\n",
       "      <td>7.855937e+09</td>\n",
       "      <td>8.325405e+09</td>\n",
       "      <td>8.555458e+09</td>\n",
       "      <td>8.697366e+09</td>\n",
       "      <td>8.796175e+09</td>\n",
       "      <td>8.787115e+09</td>\n",
       "      <td>8.029687e+09</td>\n",
       "      <td>8.417309e+09</td>\n",
       "      <td>5.586252e+09</td>\n",
       "      <td>8.572221e+09</td>\n",
       "      <td>1.166790e+11</td>\n",
       "    </tr>\n",
       "  </tbody>\n",
       "</table>\n",
       "</div>"
      ],
      "text/plain": [
       "year           2006          2007          2008          2009          2010  \\\n",
       "atc3                                                                          \n",
       "ISM    5.331336e+08  2.792590e+08  1.203226e+08  6.548920e+09  6.681486e+09   \n",
       "Total  5.331336e+08  2.792590e+08  1.203226e+08  6.548920e+09  6.681486e+09   \n",
       "\n",
       "year           2011          2012          2013          2014          2015  \\\n",
       "atc3                                                                          \n",
       "ISM    6.722886e+09  6.859036e+09  7.311039e+09  7.855937e+09  8.325405e+09   \n",
       "Total  6.722886e+09  6.859036e+09  7.311039e+09  7.855937e+09  8.325405e+09   \n",
       "\n",
       "year           2016          2017          2018          2019          2020  \\\n",
       "atc3                                                                          \n",
       "ISM    8.555458e+09  8.697366e+09  8.796175e+09  8.787115e+09  8.029687e+09   \n",
       "Total  8.555458e+09  8.697366e+09  8.796175e+09  8.787115e+09  8.029687e+09   \n",
       "\n",
       "year           2021          2022      v2022MAT         Total  \n",
       "atc3                                                           \n",
       "ISM    8.417309e+09  5.586252e+09  8.572221e+09  1.166790e+11  \n",
       "Total  8.417309e+09  5.586252e+09  8.572221e+09  1.166790e+11  "
      ]
     },
     "execution_count": 68,
     "metadata": {},
     "output_type": "execute_result"
    }
   ],
   "source": [
    "df"
   ]
  },
  {
   "cell_type": "markdown",
   "id": "ca2f6c3e",
   "metadata": {},
   "source": [
    "#### ATC3 = \"L\""
   ]
  },
  {
   "cell_type": "code",
   "execution_count": 69,
   "id": "48742680",
   "metadata": {},
   "outputs": [],
   "source": [
    "q = \"select * from atc3 where atc3 like 'L%';\"\n",
    "df = pd.read_sql(q, db)"
   ]
  },
  {
   "cell_type": "code",
   "execution_count": 70,
   "id": "f218f13b",
   "metadata": {},
   "outputs": [],
   "source": [
    "df = df.pivot_table(index=['atc3'], columns='year', values='sumfogyar', aggfunc= 'sum', margins = True, margins_name='Total').fillna(0)"
   ]
  },
  {
   "cell_type": "code",
   "execution_count": 72,
   "id": "6535b5d4",
   "metadata": {},
   "outputs": [],
   "source": [
    "df.reset_index(inplace=True)\n",
    "df = df.rename(columns = {'index':'atc3'})"
   ]
  },
  {
   "cell_type": "code",
   "execution_count": 74,
   "id": "314cd710",
   "metadata": {},
   "outputs": [],
   "source": [
    "df = df.drop(columns=['2007', '2008', '2009', '2010', '2011', '2012', '2013', '2014', '2015', '2016', '2017', '2018', '2019', '2020', '2021', '2022', 'Total'])"
   ]
  },
  {
   "cell_type": "code",
   "execution_count": 76,
   "id": "0ee136c6",
   "metadata": {},
   "outputs": [
    {
     "data": {
      "text/html": [
       "<div>\n",
       "<style scoped>\n",
       "    .dataframe tbody tr th:only-of-type {\n",
       "        vertical-align: middle;\n",
       "    }\n",
       "\n",
       "    .dataframe tbody tr th {\n",
       "        vertical-align: top;\n",
       "    }\n",
       "\n",
       "    .dataframe thead th {\n",
       "        text-align: right;\n",
       "    }\n",
       "</style>\n",
       "<table border=\"1\" class=\"dataframe\">\n",
       "  <thead>\n",
       "    <tr style=\"text-align: right;\">\n",
       "      <th>year</th>\n",
       "      <th>atc3</th>\n",
       "      <th>2006</th>\n",
       "      <th>v2022MAT</th>\n",
       "      <th>change</th>\n",
       "      <th>atcDescription</th>\n",
       "    </tr>\n",
       "  </thead>\n",
       "  <tbody>\n",
       "    <tr>\n",
       "      <th>0</th>\n",
       "      <td>L01</td>\n",
       "      <td>7.170716e+09</td>\n",
       "      <td>6.251610e+10</td>\n",
       "      <td>771.825094</td>\n",
       "      <td>antineoplastic agents</td>\n",
       "    </tr>\n",
       "    <tr>\n",
       "      <th>1</th>\n",
       "      <td>L02</td>\n",
       "      <td>1.483304e+10</td>\n",
       "      <td>9.850184e+09</td>\n",
       "      <td>-33.592935</td>\n",
       "      <td>endocrine therapy</td>\n",
       "    </tr>\n",
       "    <tr>\n",
       "      <th>2</th>\n",
       "      <td>L03</td>\n",
       "      <td>7.480114e+09</td>\n",
       "      <td>6.791969e+09</td>\n",
       "      <td>-9.199652</td>\n",
       "      <td>immunostimulants</td>\n",
       "    </tr>\n",
       "    <tr>\n",
       "      <th>3</th>\n",
       "      <td>L04</td>\n",
       "      <td>6.522477e+09</td>\n",
       "      <td>2.754507e+10</td>\n",
       "      <td>322.309937</td>\n",
       "      <td>immunosuppressive agents</td>\n",
       "    </tr>\n",
       "    <tr>\n",
       "      <th>4</th>\n",
       "      <td>Total</td>\n",
       "      <td>3.600634e+10</td>\n",
       "      <td>1.067033e+11</td>\n",
       "      <td>196.345907</td>\n",
       "      <td>Total</td>\n",
       "    </tr>\n",
       "  </tbody>\n",
       "</table>\n",
       "</div>"
      ],
      "text/plain": [
       "year   atc3          2006      v2022MAT      change            atcDescription\n",
       "0       L01  7.170716e+09  6.251610e+10  771.825094     antineoplastic agents\n",
       "1       L02  1.483304e+10  9.850184e+09  -33.592935         endocrine therapy\n",
       "2       L03  7.480114e+09  6.791969e+09   -9.199652          immunostimulants\n",
       "3       L04  6.522477e+09  2.754507e+10  322.309937  immunosuppressive agents\n",
       "4     Total  3.600634e+10  1.067033e+11  196.345907                     Total"
      ]
     },
     "execution_count": 76,
     "metadata": {},
     "output_type": "execute_result"
    }
   ],
   "source": [
    "df['change'] = ((df['v2022MAT']/df['2006'])-1)*100\n",
    "df['atcDescription'] = df['atc3']\n",
    "df['atcDescription'] = df['atcDescription'].map(atcDict)"
   ]
  },
  {
   "cell_type": "code",
   "execution_count": 81,
   "id": "1a8ef97f",
   "metadata": {},
   "outputs": [],
   "source": [
    "df.to_csv(\"neak_atc3L.csv\", sep=\";\", encoding='utf-8', index=False)"
   ]
  },
  {
   "cell_type": "code",
   "execution_count": null,
   "id": "23bcd1cc",
   "metadata": {},
   "outputs": [],
   "source": []
  },
  {
   "cell_type": "code",
   "execution_count": null,
   "id": "d44543c5",
   "metadata": {},
   "outputs": [],
   "source": []
  },
  {
   "cell_type": "code",
   "execution_count": null,
   "id": "d8e85cfb",
   "metadata": {},
   "outputs": [],
   "source": []
  },
  {
   "cell_type": "code",
   "execution_count": null,
   "id": "968f80ad",
   "metadata": {},
   "outputs": [],
   "source": []
  },
  {
   "cell_type": "markdown",
   "id": "e1e7308e",
   "metadata": {},
   "source": [
    "#### ATC3 = \"B\""
   ]
  },
  {
   "cell_type": "code",
   "execution_count": 82,
   "id": "193bc3c7",
   "metadata": {},
   "outputs": [],
   "source": [
    "q = \"select * from atc3 where atc3 like 'B%';\"\n",
    "df = pd.read_sql(q, db)"
   ]
  },
  {
   "cell_type": "code",
   "execution_count": 84,
   "id": "591203a0",
   "metadata": {},
   "outputs": [],
   "source": [
    "df = df.pivot_table(index=['atc3'], columns='year', values='sumfogyar', aggfunc= 'sum', margins = True, margins_name='Total').fillna(0)"
   ]
  },
  {
   "cell_type": "code",
   "execution_count": 85,
   "id": "5d49275a",
   "metadata": {},
   "outputs": [],
   "source": [
    "df.reset_index(inplace=True)\n",
    "df = df.rename(columns = {'index':'atc3'})\n",
    "df = df.drop(columns=['2007', '2008', '2009', '2010', '2011', '2012', '2013', '2014', '2015', '2016', '2017', '2018', '2019', '2020', '2021', '2022', 'Total'])\n",
    "df['change'] = ((df['v2022MAT']/df['2006'])-1)*100\n",
    "df['atcDescription'] = df['atc3']\n",
    "df['atcDescription'] = df['atcDescription'].map(atcDict)"
   ]
  },
  {
   "cell_type": "code",
   "execution_count": 88,
   "id": "bbf9a259",
   "metadata": {},
   "outputs": [],
   "source": [
    "df.to_csv(\"neak_atc3B.csv\", sep=\";\", encoding='utf-8', index=False)"
   ]
  },
  {
   "cell_type": "code",
   "execution_count": null,
   "id": "e080b4b6",
   "metadata": {},
   "outputs": [],
   "source": []
  },
  {
   "cell_type": "markdown",
   "id": "f4c86d94",
   "metadata": {},
   "source": [
    "#### ATC3 = \"M\""
   ]
  },
  {
   "cell_type": "code",
   "execution_count": 93,
   "id": "62f7f6ca",
   "metadata": {},
   "outputs": [],
   "source": [
    "q = \"select * from atc3 where atc3 like 'M%';\"\n",
    "df = pd.read_sql(q, db)"
   ]
  },
  {
   "cell_type": "code",
   "execution_count": 94,
   "id": "7ad369e0",
   "metadata": {},
   "outputs": [],
   "source": [
    "df = df.pivot_table(index=['atc3'], columns='year', values='sumfogyar', aggfunc= 'sum', margins = True, margins_name='Total').fillna(0)"
   ]
  },
  {
   "cell_type": "code",
   "execution_count": 95,
   "id": "5f44bc89",
   "metadata": {},
   "outputs": [],
   "source": [
    "df.reset_index(inplace=True)\n",
    "df = df.rename(columns = {'index':'atc3'})\n",
    "df = df.drop(columns=['2007', '2008', '2009', '2010', '2011', '2012', '2013', '2014', '2015', '2016', '2017', '2018', '2019', '2020', '2021', '2022', 'Total'])\n",
    "df['change'] = ((df['v2022MAT']/df['2006'])-1)*100\n",
    "df['atcDescription'] = df['atc3']\n",
    "df['atcDescription'] = df['atcDescription'].map(atcDict)"
   ]
  },
  {
   "cell_type": "code",
   "execution_count": 96,
   "id": "19563c6f",
   "metadata": {},
   "outputs": [],
   "source": [
    "df.to_csv(\"neak_atc3M.csv\", sep=\";\", encoding='utf-8', index=False)"
   ]
  },
  {
   "cell_type": "markdown",
   "id": "339aa4df",
   "metadata": {},
   "source": [
    "#### ATC3 = \"D\""
   ]
  },
  {
   "cell_type": "code",
   "execution_count": 97,
   "id": "279c7d25",
   "metadata": {},
   "outputs": [],
   "source": [
    "q = \"select * from atc3 where atc3 like 'D%';\"\n",
    "df = pd.read_sql(q, db)"
   ]
  },
  {
   "cell_type": "code",
   "execution_count": 98,
   "id": "a91c8ae0",
   "metadata": {},
   "outputs": [],
   "source": [
    "df = df.pivot_table(index=['atc3'], columns='year', values='sumfogyar', aggfunc= 'sum', margins = True, margins_name='Total').fillna(0)"
   ]
  },
  {
   "cell_type": "code",
   "execution_count": 99,
   "id": "be5a5b71",
   "metadata": {},
   "outputs": [],
   "source": [
    "df.reset_index(inplace=True)\n",
    "df = df.rename(columns = {'index':'atc3'})\n",
    "df = df.drop(columns=['2007', '2008', '2009', '2010', '2011', '2012', '2013', '2014', '2015', '2016', '2017', '2018', '2019', '2020', '2021', '2022', 'Total'])\n",
    "df['change'] = ((df['v2022MAT']/df['2006'])-1)*100\n",
    "df['atcDescription'] = df['atc3']\n",
    "df['atcDescription'] = df['atcDescription'].map(atcDict)"
   ]
  },
  {
   "cell_type": "code",
   "execution_count": 100,
   "id": "c6931be1",
   "metadata": {},
   "outputs": [],
   "source": [
    "df.to_csv(\"neak_atc3D.csv\", sep=\";\", encoding='utf-8', index=False)"
   ]
  },
  {
   "cell_type": "code",
   "execution_count": null,
   "id": "872dac66",
   "metadata": {},
   "outputs": [],
   "source": []
  },
  {
   "cell_type": "code",
   "execution_count": null,
   "id": "9ef2544b",
   "metadata": {},
   "outputs": [],
   "source": []
  },
  {
   "cell_type": "code",
   "execution_count": null,
   "id": "df296241",
   "metadata": {},
   "outputs": [],
   "source": []
  },
  {
   "cell_type": "markdown",
   "id": "f6009fdd",
   "metadata": {},
   "source": [
    "#### ATC3 = \"C\""
   ]
  },
  {
   "cell_type": "code",
   "execution_count": 101,
   "id": "1f2eacf0",
   "metadata": {},
   "outputs": [],
   "source": [
    "q = \"select * from atc3 where atc3 like 'C%';\"\n",
    "df = pd.read_sql(q, db)"
   ]
  },
  {
   "cell_type": "code",
   "execution_count": 102,
   "id": "83a2871f",
   "metadata": {},
   "outputs": [],
   "source": [
    "df = df.pivot_table(index=['atc3'], columns='year', values='sumfogyar', aggfunc= 'sum', margins = True, margins_name='Total').fillna(0)"
   ]
  },
  {
   "cell_type": "code",
   "execution_count": 103,
   "id": "781c9707",
   "metadata": {},
   "outputs": [],
   "source": [
    "df.reset_index(inplace=True)\n",
    "df = df.rename(columns = {'index':'atc3'})\n",
    "df = df.drop(columns=['2007', '2008', '2009', '2010', '2011', '2012', '2013', '2014', '2015', '2016', '2017', '2018', '2019', '2020', '2021', '2022', 'Total'])\n",
    "df['change'] = ((df['v2022MAT']/df['2006'])-1)*100\n",
    "df['atcDescription'] = df['atc3']\n",
    "df['atcDescription'] = df['atcDescription'].map(atcDict)"
   ]
  },
  {
   "cell_type": "code",
   "execution_count": 104,
   "id": "10bd0e5d",
   "metadata": {},
   "outputs": [],
   "source": [
    "df.to_csv(\"neak_atc3C.csv\", sep=\";\", encoding='utf-8', index=False)"
   ]
  },
  {
   "cell_type": "code",
   "execution_count": null,
   "id": "f5329915",
   "metadata": {},
   "outputs": [],
   "source": []
  },
  {
   "cell_type": "markdown",
   "id": "f9706ab7",
   "metadata": {},
   "source": [
    "#### ATC3 = \"J\""
   ]
  },
  {
   "cell_type": "code",
   "execution_count": 105,
   "id": "2a841a1a",
   "metadata": {},
   "outputs": [],
   "source": [
    "q = \"select * from atc3 where atc3 like 'J%';\"\n",
    "df = pd.read_sql(q, db)"
   ]
  },
  {
   "cell_type": "code",
   "execution_count": 106,
   "id": "fbedac48",
   "metadata": {},
   "outputs": [],
   "source": [
    "df = df.pivot_table(index=['atc3'], columns='year', values='sumfogyar', aggfunc= 'sum', margins = True, margins_name='Total').fillna(0)"
   ]
  },
  {
   "cell_type": "code",
   "execution_count": 107,
   "id": "bce2ab7d",
   "metadata": {},
   "outputs": [],
   "source": [
    "df.reset_index(inplace=True)\n",
    "df = df.rename(columns = {'index':'atc3'})\n",
    "df = df.drop(columns=['2007', '2008', '2009', '2010', '2011', '2012', '2013', '2014', '2015', '2016', '2017', '2018', '2019', '2020', '2021', '2022', 'Total'])\n",
    "df['change'] = ((df['v2022MAT']/df['2006'])-1)*100\n",
    "df['atcDescription'] = df['atc3']\n",
    "df['atcDescription'] = df['atcDescription'].map(atcDict)"
   ]
  },
  {
   "cell_type": "code",
   "execution_count": 109,
   "id": "0e515178",
   "metadata": {},
   "outputs": [],
   "source": [
    "df.to_csv(\"neak_atc3J.csv\", sep=\";\", encoding='utf-8', index=False)"
   ]
  },
  {
   "cell_type": "code",
   "execution_count": 110,
   "id": "289f7e10",
   "metadata": {},
   "outputs": [],
   "source": [
    "db.close()"
   ]
  },
  {
   "cell_type": "markdown",
   "id": "d2c50ac6",
   "metadata": {},
   "source": [
    "### DataWrapper: éves bontású megyei tábla leszedése"
   ]
  },
  {
   "cell_type": "code",
   "execution_count": 2,
   "id": "028e6374",
   "metadata": {},
   "outputs": [],
   "source": [
    "db = sqlite3.connect('neak2.sqlite3')\n",
    "q = \"select * from megye20062022;\"      # minden hónapban egyszer kell lefuttatni\n",
    "df = pd.read_sql(q, db)         # minden hónapban egyszer kell lefuttatni"
   ]
  },
  {
   "cell_type": "code",
   "execution_count": null,
   "id": "c962dbd6",
   "metadata": {},
   "outputs": [],
   "source": [
    "df"
   ]
  },
  {
   "cell_type": "code",
   "execution_count": 5,
   "id": "b6445125",
   "metadata": {},
   "outputs": [],
   "source": [
    "# https://www.google.com/url?sa=t&rct=j&q=&esrc=s&source=web&cd=&ved=2ahUKEwjki_OS-5v5AhVN2aQKHajIDVkQFnoECBEQAQ&url=https%3A%2F%2Fwww.ksh.hu%2Fdocs%2Fhun%2Fxftp%2Froviditesek.pdf&usg=AOvVaw2_-SdIQNO8KCskUhnIm9gd\n",
    "# KSH módszertani útmutató\n",
    "# Megyék rövidítésjegyzéke\n",
    "\n",
    "megyedict = {\"BA\":\"Baranya\",\n",
    "\"BO\":\"Borsod-Abaúj-Zemplén\",\n",
    "\"BP\":\"Budapest\",\n",
    "\"BÁ\":\"Bács-Kiskun\",\n",
    "\"BÉ\":\"Békés\",\n",
    "\"CS\":\"Csongrád-Csanád\",\n",
    "\"FE\":\"Fejér\",\n",
    "\"GY\":\"Győr-Moson-Sopron\",\n",
    "\"HA\":\"Hajdú-Bihar\",\n",
    "\"HE\":\"Heves\",\n",
    "\"JÁ\":\"Jász-Nagykun-Szolnok\",\n",
    "\"KO\":\"Komárom-Esztergom\",\n",
    "\"NÓ\":\"Nógrád\",\n",
    "\"PE\":\"Pest\",\n",
    "\"SO\":\"Somogy\",\n",
    "\"SZ\":\"Szabolcs-Szatmár-Bereg\",\n",
    "\"TO\":\"Tolna\",\n",
    "\"VA\":\"Vas\",\n",
    "\"VE\":\"Veszprém\",\n",
    "\"ZA\":\"Zala\"}"
   ]
  },
  {
   "cell_type": "code",
   "execution_count": 6,
   "id": "f7e775b2",
   "metadata": {},
   "outputs": [],
   "source": [
    "df['megyekod'] = df['megye']\n",
    "df['megye'] = df['megyekod'].map(megyedict)"
   ]
  },
  {
   "cell_type": "code",
   "execution_count": 9,
   "id": "e36b5b50",
   "metadata": {},
   "outputs": [],
   "source": [
    "df_megyeFT = df.pivot(index='megye', columns='year', values='sumfogyar').fillna(0)"
   ]
  },
  {
   "cell_type": "code",
   "execution_count": 21,
   "id": "ee2b270e",
   "metadata": {},
   "outputs": [],
   "source": [
    "df_megyeFT['change'] = (((df_megyeFT['v2022MAT'] / df_megyeFT['2006'])-1)*100).round(decimals=2)"
   ]
  },
  {
   "cell_type": "code",
   "execution_count": null,
   "id": "5f5a0c65",
   "metadata": {},
   "outputs": [],
   "source": [
    "df_megyeFT"
   ]
  },
  {
   "cell_type": "code",
   "execution_count": 15,
   "id": "106d7ec0",
   "metadata": {},
   "outputs": [],
   "source": [
    "df_megyeFT.to_csv(\"neak_megyeFT.csv\", sep=\";\", encoding='utf-8', index=True)"
   ]
  },
  {
   "cell_type": "code",
   "execution_count": 17,
   "id": "71aedece",
   "metadata": {},
   "outputs": [],
   "source": [
    "df_megyedb = df.pivot(index='megye', columns='year', values='sumdob').fillna(0)"
   ]
  },
  {
   "cell_type": "code",
   "execution_count": 23,
   "id": "d39accf3",
   "metadata": {},
   "outputs": [],
   "source": [
    "df_megyedb['change'] = (((df_megyedb['v2022MAT'] / df_megyedb['2006'])-1)*100).round(decimals=2)"
   ]
  },
  {
   "cell_type": "code",
   "execution_count": null,
   "id": "d69c8a53",
   "metadata": {},
   "outputs": [],
   "source": [
    "df_megyedb"
   ]
  },
  {
   "cell_type": "code",
   "execution_count": 25,
   "id": "b18b7a8f",
   "metadata": {},
   "outputs": [],
   "source": [
    "df_megyedb.to_csv(\"neak_megyedb.csv\", sep=\";\", encoding='utf-8', index=True)"
   ]
  },
  {
   "cell_type": "code",
   "execution_count": 26,
   "id": "f58e017a",
   "metadata": {},
   "outputs": [],
   "source": [
    "db.close()"
   ]
  },
  {
   "cell_type": "code",
   "execution_count": null,
   "id": "ed55f234",
   "metadata": {},
   "outputs": [],
   "source": []
  }
 ],
 "metadata": {
  "kernelspec": {
   "display_name": "Python 3 (ipykernel)",
   "language": "python",
   "name": "python3"
  },
  "language_info": {
   "codemirror_mode": {
    "name": "ipython",
    "version": 3
   },
   "file_extension": ".py",
   "mimetype": "text/x-python",
   "name": "python",
   "nbconvert_exporter": "python",
   "pygments_lexer": "ipython3",
   "version": "3.7.11"
  }
 },
 "nbformat": 4,
 "nbformat_minor": 5
}
