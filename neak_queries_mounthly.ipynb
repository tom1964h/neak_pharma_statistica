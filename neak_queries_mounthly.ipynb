{
 "cells": [
  {
   "cell_type": "code",
   "execution_count": 1,
   "id": "c0577a97",
   "metadata": {},
   "outputs": [],
   "source": [
    "import pyodbc\n",
    "import pandas as pd\n",
    "import numpy as np\n",
    "import os\n",
    "import sqlite3\n",
    "from datetime import datetime, timezone\n",
    "import matplotlib.pyplot as plt\n",
    "\n",
    "%matplotlib inline"
   ]
  },
  {
   "cell_type": "code",
   "execution_count": 2,
   "id": "8501a914",
   "metadata": {},
   "outputs": [],
   "source": [
    "df_already_scanned = pd.read_csv(\"already_scanned.csv\", sep=\";\")"
   ]
  },
  {
   "cell_type": "code",
   "execution_count": 160,
   "id": "446391ac",
   "metadata": {},
   "outputs": [],
   "source": [
    "paramList = []\n",
    "entry = []\n",
    "x = len(df_already_scanned)"
   ]
  },
  {
   "cell_type": "code",
   "execution_count": 161,
   "id": "352b5def",
   "metadata": {},
   "outputs": [],
   "source": [
    "entry.append('sumRecord_Number')\n",
    "entry.append(df_already_scanned['sourceRecordNumber'].sum())\n",
    "paramList.append(entry)\n",
    "entry = []\n",
    "entry.append('minSumPriceBill')\n",
    "entry.append(df_already_scanned['dfSumPriceBill'].min())\n",
    "paramList.append(entry)\n",
    "entry = []\n",
    "entry.append('maxSumPriceBill')\n",
    "entry.append(df_already_scanned['dfSumPriceBill'].max())\n",
    "paramList.append(entry)\n",
    "entry = []\n",
    "entry.append('avgSumPriceBill')\n",
    "entry.append(df_already_scanned['dfSumPriceBill'].mean())\n",
    "paramList.append(entry)\n",
    "entry = []"
   ]
  },
  {
   "cell_type": "code",
   "execution_count": 163,
   "id": "83fcafdc",
   "metadata": {},
   "outputs": [],
   "source": [
    "penultSumPriceBill = df_already_scanned.loc[x-2:x-2, ['dfSumPriceBill']].iloc[0,0]\n",
    "entry.append('penultSumPriceBill')\n",
    "entry.append(penultSumPriceBill)\n",
    "paramList.append(entry)\n",
    "entry = []\n",
    "\n",
    "lastSumPriceBill = df_already_scanned.loc[x-1:x, ['dfSumPriceBill']].iloc[0,0]\n",
    "entry.append('lastSumPriceBill')\n",
    "entry.append(lastSumPriceBill)\n",
    "paramList.append(entry)\n",
    "entry = []\n",
    "\n",
    "changeLastSumPriceBill = ((lastSumPriceBill/penultSumPriceBill)-1)*100\n",
    "entry.append('changeLastSumPriceBill')\n",
    "entry.append(changeLastSumPriceBill)\n",
    "paramList.append(entry)\n",
    "entry = []\n",
    "\n",
    "penultSumBoxMill = df_already_scanned.loc[x-2:x-2, ['dfSumBoxMill']].iloc[0,0]\n",
    "entry.append('penultSumBoxMill')\n",
    "entry.append(penultSumBoxMill)\n",
    "paramList.append(entry)\n",
    "entry = []\n",
    "\n",
    "lastSumBoxMill = df_already_scanned.loc[x-1:x, ['dfSumBoxMill']].iloc[0,0]\n",
    "entry.append('lastSumBoxMill')\n",
    "entry.append(lastSumBoxMill)\n",
    "paramList.append(entry)\n",
    "entry = []\n",
    "\n",
    "changeLastSumBoxMill = ((lastSumBoxMill/penultSumBoxMill)-1)*100\n",
    "entry.append('changeLastSumBoxMill')\n",
    "entry.append(changeLastSumBoxMill)\n",
    "paramList.append(entry)\n",
    "entry = []\n",
    "\n",
    "yesterSumBoxMill = df_already_scanned.loc[x-13:x-12, ['dfSumBoxMill']].iloc[0,0]\n",
    "entry.append('yesterSumBoxMill')\n",
    "entry.append(yesterSumBoxMill)\n",
    "paramList.append(entry)\n",
    "entry = []\n",
    "\n",
    "changeYesterSumBoxMill = ((lastSumBoxMill/yesterSumBoxMill)-1)*100\n",
    "entry.append('changeYesterSumBoxMill')\n",
    "entry.append(changeYesterSumBoxMill)\n",
    "paramList.append(entry)\n",
    "entry = []\n",
    "\n",
    "\n",
    "yesterSumPriceBill = df_already_scanned.loc[x-13:x-12, ['dfSumPriceBill']].iloc[0,0]\n",
    "entry.append('yesterSumPriceBill')\n",
    "entry.append(yesterSumPriceBill)\n",
    "paramList.append(entry)\n",
    "entry = []\n",
    "\n",
    "\n",
    "changeYesterSumPriceBill = ((lastSumPriceBill/yesterSumPriceBill)-1)*100\n",
    "entry.append('changeYesterSumPriceBill')\n",
    "entry.append(changeYesterSumPriceBill)\n",
    "paramList.append(entry)\n",
    "entry = []"
   ]
  },
  {
   "cell_type": "code",
   "execution_count": 165,
   "id": "b8e2d7b7",
   "metadata": {},
   "outputs": [],
   "source": [
    "neak_paramList = pd.DataFrame(paramList, columns =['parameter', 'value'])"
   ]
  },
  {
   "cell_type": "code",
   "execution_count": 166,
   "id": "da27b799",
   "metadata": {},
   "outputs": [],
   "source": [
    "neak_paramList.to_csv(\"neak_paramList.csv\", sep=\";\", encoding='utf-8', index=False)"
   ]
  },
  {
   "cell_type": "code",
   "execution_count": null,
   "id": "928d2970",
   "metadata": {},
   "outputs": [],
   "source": []
  },
  {
   "cell_type": "code",
   "execution_count": 180,
   "id": "9d45c398",
   "metadata": {},
   "outputs": [],
   "source": [
    "# Abbreviations of the Names of the Months (Yale University Library)\n",
    "# https://web.library.yale.edu/cataloging/months\n",
    "# line = \"English\"\n",
    "\n",
    "monthDict = {\n",
    "'01':\"Jan.\",\n",
    "'02':\"Feb.\",\n",
    "'03':\"Mar.\",\n",
    "'04':\"Apr.\",\n",
    "'05':\"May\",\n",
    "'06':\"June\",\n",
    "'07':\"July\",\n",
    "'08':\"Aug.\",\n",
    "'09':\"Sept.\",\n",
    "'10':\"Oct.\",\n",
    "'11':\"Nov.\",\n",
    "'12':\"Dec.\"}"
   ]
  },
  {
   "cell_type": "code",
   "execution_count": 2,
   "id": "0fd60a75",
   "metadata": {},
   "outputs": [],
   "source": [
    "db = sqlite3.connect('neak2.sqlite3')"
   ]
  },
  {
   "cell_type": "code",
   "execution_count": null,
   "id": "6dee078e",
   "metadata": {},
   "outputs": [],
   "source": [
    "# q = \"select * from records_number\"\n",
    "# q = \"select * from ttt_db\"\n",
    "# q = \"select * from atc1\"\n",
    "# q = \"select * from atc3\"\n",
    "# q = \"select * from sqlite_schema where type like 'table'\"\n",
    "# q = \"select * from sqlite_schema where type like 'view'\"\n",
    "# q = \"select * from recent5\"\n",
    "\n",
    "# q = \"select idoszak, sum(fogyar) as sumfogyar, sum(doboz) as sumdoboz from recent6 group by idoszak;\""
   ]
  },
  {
   "cell_type": "code",
   "execution_count": 170,
   "id": "0253b650",
   "metadata": {},
   "outputs": [],
   "source": [
    "q = \"select idoszak, sum(fogyar) as sumfogyar, sum(doboz) as sumdoboz from recent6 group by idoszak;\""
   ]
  },
  {
   "cell_type": "code",
   "execution_count": 171,
   "id": "348fec6f",
   "metadata": {},
   "outputs": [],
   "source": [
    "df = pd.read_sql(q, db)"
   ]
  },
  {
   "cell_type": "code",
   "execution_count": 176,
   "id": "6484d88d",
   "metadata": {},
   "outputs": [],
   "source": [
    "df['year']= df['idoszak'].str.slice(0, 4)"
   ]
  },
  {
   "cell_type": "code",
   "execution_count": 177,
   "id": "393c788f",
   "metadata": {},
   "outputs": [],
   "source": [
    "df['honap']= df['idoszak'].str.slice(4, 6)"
   ]
  },
  {
   "cell_type": "code",
   "execution_count": 181,
   "id": "7a3b8ca9",
   "metadata": {},
   "outputs": [],
   "source": [
    "df['month'] = df['honap'].map(monthDict)"
   ]
  },
  {
   "cell_type": "code",
   "execution_count": 183,
   "id": "854db1b4",
   "metadata": {},
   "outputs": [],
   "source": [
    "df.to_csv(\"recent6_monthly.csv\", sep=\";\", encoding='utf-8', index=False)"
   ]
  },
  {
   "cell_type": "code",
   "execution_count": null,
   "id": "cf8f3553",
   "metadata": {},
   "outputs": [],
   "source": []
  },
  {
   "cell_type": "code",
   "execution_count": null,
   "id": "4c571375",
   "metadata": {},
   "outputs": [],
   "source": []
  },
  {
   "cell_type": "code",
   "execution_count": null,
   "id": "fde83599",
   "metadata": {},
   "outputs": [],
   "source": []
  },
  {
   "cell_type": "code",
   "execution_count": 36,
   "id": "b683cffd",
   "metadata": {},
   "outputs": [],
   "source": [
    "q = \"select * from years;\""
   ]
  },
  {
   "cell_type": "code",
   "execution_count": 37,
   "id": "cb49d9ed",
   "metadata": {},
   "outputs": [],
   "source": [
    "df = pd.read_sql(q, db)"
   ]
  },
  {
   "cell_type": "code",
   "execution_count": 39,
   "id": "ab8f711d",
   "metadata": {},
   "outputs": [],
   "source": [
    "df.to_csv(\"neak_years.csv\", sep=\";\", encoding='utf-8', index=False)"
   ]
  },
  {
   "cell_type": "code",
   "execution_count": null,
   "id": "9b61c328",
   "metadata": {},
   "outputs": [],
   "source": []
  },
  {
   "cell_type": "code",
   "execution_count": null,
   "id": "6f37c77f",
   "metadata": {},
   "outputs": [],
   "source": []
  },
  {
   "cell_type": "code",
   "execution_count": 3,
   "id": "b871f148",
   "metadata": {},
   "outputs": [],
   "source": [
    "q = \"SELECT idoszak, substr(atc, 1, 1) AS atc1, sum(doboz) AS sumdob, sum(fogyar) AS sumfogyar FROM whole2022 GROUP BY substr(atc, 1, 1), idoszak;\""
   ]
  },
  {
   "cell_type": "code",
   "execution_count": 4,
   "id": "18174267",
   "metadata": {},
   "outputs": [],
   "source": [
    "df = pd.read_sql(q, db)"
   ]
  },
  {
   "cell_type": "code",
   "execution_count": 22,
   "id": "c25fe4a4",
   "metadata": {},
   "outputs": [],
   "source": [
    "df['changeSumDob'] = (((df['sumdob']/df.shift(1, axis = 0)['sumdob'])-1)*100).round(decimals=2)"
   ]
  },
  {
   "cell_type": "code",
   "execution_count": 23,
   "id": "dff722ef",
   "metadata": {},
   "outputs": [],
   "source": [
    "df['changeSumFogyar'] = (((df['sumfogyar']/df.shift(1, axis = 0)['sumfogyar'])-1)*100).round(decimals=2)"
   ]
  },
  {
   "cell_type": "code",
   "execution_count": 25,
   "id": "fad6c40e",
   "metadata": {},
   "outputs": [],
   "source": [
    "df.to_csv(\"neak_atc1.csv\", sep=\";\", encoding='utf-8', index=False)"
   ]
  },
  {
   "cell_type": "code",
   "execution_count": null,
   "id": "d44431cf",
   "metadata": {},
   "outputs": [],
   "source": []
  },
  {
   "cell_type": "code",
   "execution_count": null,
   "id": "dad61278",
   "metadata": {},
   "outputs": [],
   "source": []
  },
  {
   "cell_type": "code",
   "execution_count": 26,
   "id": "5395a791",
   "metadata": {},
   "outputs": [],
   "source": [
    "q = \"SELECT idoszak, megye, sum(doboz) AS sumdob, sum(fogyar) AS sumfogyar FROM whole2022 GROUP BY idoszak, megye;\""
   ]
  },
  {
   "cell_type": "code",
   "execution_count": 27,
   "id": "dbfe564b",
   "metadata": {},
   "outputs": [],
   "source": [
    "df = pd.read_sql(q, db)"
   ]
  },
  {
   "cell_type": "code",
   "execution_count": 29,
   "id": "926b0720",
   "metadata": {},
   "outputs": [],
   "source": [
    "# https://www.google.com/url?sa=t&rct=j&q=&esrc=s&source=web&cd=&ved=2ahUKEwjki_OS-5v5AhVN2aQKHajIDVkQFnoECBEQAQ&url=https%3A%2F%2Fwww.ksh.hu%2Fdocs%2Fhun%2Fxftp%2Froviditesek.pdf&usg=AOvVaw2_-SdIQNO8KCskUhnIm9gd\n",
    "# KSH módszertani útmutató\n",
    "# Megyék rövidítésjegyzéke\n",
    "\n",
    "megyedict = {\"BA\":\"Baranya\",\n",
    "\"BO\":\"Borsod-Abaúj-Zemplén\",\n",
    "\"BP\":\"Budapest\",\n",
    "\"BÁ\":\"Bács-Kiskun\",\n",
    "\"BÉ\":\"Békés\",\n",
    "\"CS\":\"Csongrád-Csanád\",\n",
    "\"FE\":\"Fejér\",\n",
    "\"GY\":\"Győr-Moson-Sopron\",\n",
    "\"HA\":\"Hajdú-Bihar\",\n",
    "\"HE\":\"Heves\",\n",
    "\"JÁ\":\"Jász-Nagykun-Szolnok\",\n",
    "\"KO\":\"Komárom-Esztergom\",\n",
    "\"NÓ\":\"Nógrád\",\n",
    "\"PE\":\"Pest\",\n",
    "\"SO\":\"Somogy\",\n",
    "\"SZ\":\"Szabolcs-Szatmár-Bereg\",\n",
    "\"TO\":\"Tolna\",\n",
    "\"VA\":\"Vas\",\n",
    "\"VE\":\"Veszprém\",\n",
    "\"ZA\":\"Zala\"}"
   ]
  },
  {
   "cell_type": "code",
   "execution_count": 30,
   "id": "0ee68e0b",
   "metadata": {},
   "outputs": [],
   "source": [
    "df['megyekod'] = df['megye']"
   ]
  },
  {
   "cell_type": "code",
   "execution_count": 31,
   "id": "d646fa1e",
   "metadata": {},
   "outputs": [],
   "source": [
    "df['megye'] = df['megye'].map(megyedict)"
   ]
  },
  {
   "cell_type": "code",
   "execution_count": 36,
   "id": "9d39858b",
   "metadata": {},
   "outputs": [],
   "source": [
    "df.sort_values(by=['megye','idoszak'], inplace=True)"
   ]
  },
  {
   "cell_type": "code",
   "execution_count": 37,
   "id": "01e8a6d8",
   "metadata": {},
   "outputs": [],
   "source": [
    "df['changeSumDob'] = (((df['sumdob']/df.shift(1, axis = 0)['sumdob'])-1)*100).round(decimals=2)"
   ]
  },
  {
   "cell_type": "code",
   "execution_count": 38,
   "id": "cd08f7f5",
   "metadata": {},
   "outputs": [],
   "source": [
    "df['changeSumFogyar'] = (((df['sumfogyar']/df.shift(1, axis = 0)['sumfogyar'])-1)*100).round(decimals=2)"
   ]
  },
  {
   "cell_type": "code",
   "execution_count": 42,
   "id": "93aaaab2",
   "metadata": {},
   "outputs": [],
   "source": [
    "df.to_csv(\"neak_megye.csv\", sep=\";\", encoding='utf-8', index=False)"
   ]
  },
  {
   "cell_type": "code",
   "execution_count": 43,
   "id": "601867c8",
   "metadata": {},
   "outputs": [],
   "source": [
    "db.close()"
   ]
  },
  {
   "cell_type": "code",
   "execution_count": null,
   "id": "fa20929d",
   "metadata": {},
   "outputs": [],
   "source": []
  }
 ],
 "metadata": {
  "kernelspec": {
   "display_name": "Python 3 (ipykernel)",
   "language": "python",
   "name": "python3"
  },
  "language_info": {
   "codemirror_mode": {
    "name": "ipython",
    "version": 3
   },
   "file_extension": ".py",
   "mimetype": "text/x-python",
   "name": "python",
   "nbconvert_exporter": "python",
   "pygments_lexer": "ipython3",
   "version": "3.7.11"
  }
 },
 "nbformat": 4,
 "nbformat_minor": 5
}
