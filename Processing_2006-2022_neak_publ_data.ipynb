{
 "cells": [
  {
   "cell_type": "markdown",
   "id": "500d7148",
   "metadata": {},
   "source": [
    "# Gyógyszerstatisztikák NEAK-adatok alapján\n",
    "\n",
    "\n",
    "## Három eredeti elemzési cél:\n",
    "\n",
    "\n",
    "1. hosszútávú (12 éves) leírása a támogatott gyógyszerforgalomnak\n",
    "2. a friss adatok alapján gyorsjelentések készítése és posztolása a megjelenés után órákkal \n",
    "3. a COVID-pandémia kapcsán az elmúlt 5 év áttekintése többféle szempontból\n"
   ]
  },
  {
   "cell_type": "code",
   "execution_count": 1,
   "id": "c0577a97",
   "metadata": {},
   "outputs": [],
   "source": [
    "import pyodbc\n",
    "import pandas as pd\n",
    "import numpy as np\n",
    "import os\n",
    "import sqlite3\n",
    "from datetime import datetime, timezone\n",
    "import matplotlib.pyplot as plt\n",
    "\n",
    "%matplotlib inline"
   ]
  },
  {
   "cell_type": "markdown",
   "id": "07e4711a",
   "metadata": {},
   "source": [
    "## 1. hosszútávú (12 éves) leírás"
   ]
  },
  {
   "cell_type": "code",
   "execution_count": 20,
   "id": "643afa6f",
   "metadata": {},
   "outputs": [],
   "source": [
    "path = \"C:\\neak_source\""
   ]
  },
  {
   "cell_type": "code",
   "execution_count": 2,
   "id": "feb70bb6",
   "metadata": {},
   "outputs": [],
   "source": [
    "# betöltési logok előszedése\n",
    "\n",
    "df1 = pd.read_csv(\"already_processed_log_200612.csv\", sep=\";\")\n",
    "df2 = pd.read_csv(\"already_processed_log_200712.csv\", sep=\";\")\n",
    "df3 = pd.read_csv(\"already_processed_log_200912.csv\", sep=\";\")\n",
    "df4 = pd.read_csv(\"already_processed_log_201112.csv\", sep=\";\")\n",
    "df5 = pd.read_csv(\"already_processed_log_201412.csv\", sep=\";\")\n",
    "df6 = pd.read_csv(\"already_processed_log_201712.csv\", sep=\";\")\n",
    "df7 = pd.read_csv(\"already_processed_log_202205.csv\", sep=\";\")"
   ]
  },
  {
   "cell_type": "code",
   "execution_count": 4,
   "id": "67d323d4",
   "metadata": {},
   "outputs": [],
   "source": [
    "df = pd.concat([df1, df2, df3, df4, df5, df6, df7]).reset_index(drop = True)"
   ]
  },
  {
   "cell_type": "code",
   "execution_count": 6,
   "id": "a880a08a",
   "metadata": {},
   "outputs": [
    {
     "data": {
      "text/plain": [
       "23656578"
      ]
     },
     "execution_count": 6,
     "metadata": {},
     "output_type": "execute_result"
    }
   ],
   "source": [
    "df['sourceRecordNumber'].sum()"
   ]
  },
  {
   "cell_type": "code",
   "execution_count": 7,
   "id": "2f977817",
   "metadata": {},
   "outputs": [],
   "source": [
    "# CSV állomány legyártása a Power BI vizualizáció részére\n",
    "\n",
    "df.to_csv(\"already_scanned.csv\", sep=\";\", encoding='utf-8', index=False)"
   ]
  },
  {
   "cell_type": "code",
   "execution_count": null,
   "id": "0252517a",
   "metadata": {},
   "outputs": [],
   "source": [
    "df.groupby('year')['sourceRecordNumber'].sum()"
   ]
  },
  {
   "cell_type": "code",
   "execution_count": 9,
   "id": "6fef5f4a",
   "metadata": {},
   "outputs": [
    {
     "data": {
      "image/png": "[encoded data removed]",
      "text/plain": [
       "<Figure size 864x288 with 1 Axes>"
      ]
     },
     "metadata": {
      "needs_background": "light"
     },
     "output_type": "display_data"
    }
   ],
   "source": [
    "df.groupby('year')['sourceRecordNumber'].sum().plot(kind='bar', figsize=(12, 4))\n",
    "plt.xlabel('évek')\n",
    "plt.ylabel('forrásadat rekordszám')\n",
    "plt.title('NEAK forrásadatok éves összegzett rekordszáma (2022 májusig)')\n",
    "# plt.savefig(\"neak1.png\")"
   ]
  },
  {
   "cell_type": "code",
   "execution_count": null,
   "id": "a71028c7",
   "metadata": {},
   "outputs": [],
   "source": [
    "# SQLITE adatbázis visszaolvasása"
   ]
  },
  {
   "cell_type": "code",
   "execution_count": 2,
   "id": "e75e3660",
   "metadata": {},
   "outputs": [],
   "source": [
    "db = sqlite3.connect('neak2.sqlite3')"
   ]
  },
  {
   "cell_type": "code",
   "execution_count": 11,
   "id": "60a785c2",
   "metadata": {},
   "outputs": [],
   "source": [
    "q = \"select * from records_number\"\n",
    "df = pd.read_sql(q, db)"
   ]
  },
  {
   "cell_type": "code",
   "execution_count": 17,
   "id": "222f35a3",
   "metadata": {},
   "outputs": [],
   "source": [
    "# CSV állomány legyártása a Power BI vizualizáció részére\n",
    "\n",
    "df.to_csv(\"records_number.csv\", sep=\";\", encoding='utf-8', index=False)"
   ]
  },
  {
   "cell_type": "code",
   "execution_count": 13,
   "id": "f2b4765b",
   "metadata": {},
   "outputs": [],
   "source": [
    "q = \"select * from years\"\n",
    "dfyears = pd.read_sql(q, db)"
   ]
  },
  {
   "cell_type": "code",
   "execution_count": 19,
   "id": "fa20929d",
   "metadata": {},
   "outputs": [],
   "source": [
    "# CSV állomány legyártása a Power BI vizualizáció részére\n",
    "\n",
    "dfyears.to_csv(\"df_years.csv\", sep=\";\", encoding='utf-8', index=False)"
   ]
  },
  {
   "cell_type": "code",
   "execution_count": 3,
   "id": "c77baff3",
   "metadata": {},
   "outputs": [],
   "source": [
    "q = \"select * from atc\"\n",
    "df = pd.read_sql(q, db)"
   ]
  },
  {
   "cell_type": "code",
   "execution_count": 12,
   "id": "43808732",
   "metadata": {},
   "outputs": [],
   "source": [
    "df['atc3'] = df['atc'].str.slice(0, 3)"
   ]
  },
  {
   "cell_type": "code",
   "execution_count": 14,
   "id": "2b938754",
   "metadata": {},
   "outputs": [],
   "source": [
    "df.to_csv(\"atc.csv\", sep=\";\", encoding='utf-8', index=False)"
   ]
  },
  {
   "cell_type": "code",
   "execution_count": 15,
   "id": "0f747d8c",
   "metadata": {},
   "outputs": [],
   "source": [
    "q = \"select * from atc3\"\n",
    "df = pd.read_sql(q, db)"
   ]
  },
  {
   "cell_type": "code",
   "execution_count": 18,
   "id": "340f28be",
   "metadata": {},
   "outputs": [],
   "source": [
    "df.to_csv(\"atc3.csv\", sep=\";\", encoding='utf-8', index=False)"
   ]
  },
  {
   "cell_type": "code",
   "execution_count": 19,
   "id": "601867c8",
   "metadata": {},
   "outputs": [],
   "source": [
    "db.close()"
   ]
  },
  {
   "cell_type": "code",
   "execution_count": null,
   "id": "61b02fd8",
   "metadata": {},
   "outputs": [],
   "source": []
  },
  {
   "cell_type": "code",
   "execution_count": null,
   "id": "f70fd5fb",
   "metadata": {},
   "outputs": [],
   "source": []
  },
  {
   "cell_type": "code",
   "execution_count": null,
   "id": "d23ed12b",
   "metadata": {},
   "outputs": [],
   "source": []
  }
 ],
 "metadata": {
  "kernelspec": {
   "display_name": "Python 3 (ipykernel)",
   "language": "python",
   "name": "python3"
  },
  "language_info": {
   "codemirror_mode": {
    "name": "ipython",
    "version": 3
   },
   "file_extension": ".py",
   "mimetype": "text/x-python",
   "name": "python",
   "nbconvert_exporter": "python",
   "pygments_lexer": "ipython3",
   "version": "3.7.11"
  }
 },
 "nbformat": 4,
 "nbformat_minor": 5
}
